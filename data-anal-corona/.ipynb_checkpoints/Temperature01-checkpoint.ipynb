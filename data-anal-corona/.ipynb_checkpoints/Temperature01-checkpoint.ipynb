{
 "cells": [
  {
   "cell_type": "code",
   "execution_count": 1,
   "id": "3c2cd389",
   "metadata": {},
   "outputs": [],
   "source": [
    "import pandas as pd"
   ]
  },
  {
   "cell_type": "code",
   "execution_count": 2,
   "id": "afb314ce",
   "metadata": {},
   "outputs": [],
   "source": [
    "# 데이터 파일 읽어오기 2019년 Seoul\n",
    "df = pd.read_csv('temperature/2019/2019seoul.csv', encoding='euc-kr')"
   ]
  },
  {
   "cell_type": "code",
   "execution_count": 3,
   "id": "0a780638",
   "metadata": {},
   "outputs": [
    {
     "name": "stdout",
     "output_type": "stream",
     "text": [
      "<class 'pandas.core.frame.DataFrame'>\n",
      "RangeIndex: 365 entries, 0 to 364\n",
      "Data columns (total 5 columns):\n",
      " #   Column   Non-Null Count  Dtype  \n",
      "---  ------   --------------  -----  \n",
      " 0   날짜       365 non-null    object \n",
      " 1   지점       365 non-null    object \n",
      " 2   평균기온(℃)  365 non-null    float64\n",
      " 3   최저기온(℃)  365 non-null    float64\n",
      " 4   최고기온(℃)  365 non-null    float64\n",
      "dtypes: float64(3), object(2)\n",
      "memory usage: 14.4+ KB\n"
     ]
    }
   ],
   "source": [
    "df.info()"
   ]
  },
  {
   "cell_type": "code",
   "execution_count": 4,
   "id": "a7dd0896",
   "metadata": {},
   "outputs": [
    {
     "data": {
      "text/html": [
       "<div>\n",
       "<style scoped>\n",
       "    .dataframe tbody tr th:only-of-type {\n",
       "        vertical-align: middle;\n",
       "    }\n",
       "\n",
       "    .dataframe tbody tr th {\n",
       "        vertical-align: top;\n",
       "    }\n",
       "\n",
       "    .dataframe thead th {\n",
       "        text-align: right;\n",
       "    }\n",
       "</style>\n",
       "<table border=\"1\" class=\"dataframe\">\n",
       "  <thead>\n",
       "    <tr style=\"text-align: right;\">\n",
       "      <th></th>\n",
       "      <th>날짜</th>\n",
       "      <th>지점</th>\n",
       "      <th>평균기온(℃)</th>\n",
       "      <th>최저기온(℃)</th>\n",
       "      <th>최고기온(℃)</th>\n",
       "    </tr>\n",
       "  </thead>\n",
       "  <tbody>\n",
       "    <tr>\n",
       "      <th>0</th>\n",
       "      <td>2019-01-01</td>\n",
       "      <td>서울</td>\n",
       "      <td>-5.0</td>\n",
       "      <td>-8.2</td>\n",
       "      <td>-0.6</td>\n",
       "    </tr>\n",
       "    <tr>\n",
       "      <th>1</th>\n",
       "      <td>2019-01-02</td>\n",
       "      <td>서울</td>\n",
       "      <td>-4.9</td>\n",
       "      <td>-8.8</td>\n",
       "      <td>0.2</td>\n",
       "    </tr>\n",
       "    <tr>\n",
       "      <th>2</th>\n",
       "      <td>2019-01-03</td>\n",
       "      <td>서울</td>\n",
       "      <td>-3.5</td>\n",
       "      <td>-8.4</td>\n",
       "      <td>3.2</td>\n",
       "    </tr>\n",
       "    <tr>\n",
       "      <th>3</th>\n",
       "      <td>2019-01-04</td>\n",
       "      <td>서울</td>\n",
       "      <td>-1.1</td>\n",
       "      <td>-6.2</td>\n",
       "      <td>4.1</td>\n",
       "    </tr>\n",
       "    <tr>\n",
       "      <th>4</th>\n",
       "      <td>2019-01-05</td>\n",
       "      <td>서울</td>\n",
       "      <td>-2.8</td>\n",
       "      <td>-5.5</td>\n",
       "      <td>1.1</td>\n",
       "    </tr>\n",
       "  </tbody>\n",
       "</table>\n",
       "</div>"
      ],
      "text/plain": [
       "           날짜  지점  평균기온(℃)  최저기온(℃)  최고기온(℃)\n",
       "0  2019-01-01  서울     -5.0     -8.2     -0.6\n",
       "1  2019-01-02  서울     -4.9     -8.8      0.2\n",
       "2  2019-01-03  서울     -3.5     -8.4      3.2\n",
       "3  2019-01-04  서울     -1.1     -6.2      4.1\n",
       "4  2019-01-05  서울     -2.8     -5.5      1.1"
      ]
     },
     "execution_count": 4,
     "metadata": {},
     "output_type": "execute_result"
    }
   ],
   "source": [
    "df.head(5)"
   ]
  },
  {
   "cell_type": "code",
   "execution_count": 5,
   "id": "c7769aa8",
   "metadata": {},
   "outputs": [],
   "source": [
    "df['날짜'] = pd.to_datetime(df['날짜'])"
   ]
  },
  {
   "cell_type": "code",
   "execution_count": 6,
   "id": "98dfe749",
   "metadata": {},
   "outputs": [
    {
     "name": "stdout",
     "output_type": "stream",
     "text": [
      "<class 'pandas.core.frame.DataFrame'>\n",
      "RangeIndex: 365 entries, 0 to 364\n",
      "Data columns (total 5 columns):\n",
      " #   Column   Non-Null Count  Dtype         \n",
      "---  ------   --------------  -----         \n",
      " 0   날짜       365 non-null    datetime64[ns]\n",
      " 1   지점       365 non-null    object        \n",
      " 2   평균기온(℃)  365 non-null    float64       \n",
      " 3   최저기온(℃)  365 non-null    float64       \n",
      " 4   최고기온(℃)  365 non-null    float64       \n",
      "dtypes: datetime64[ns](1), float64(3), object(1)\n",
      "memory usage: 14.4+ KB\n"
     ]
    }
   ],
   "source": [
    "df.info()"
   ]
  },
  {
   "cell_type": "code",
   "execution_count": 7,
   "id": "99394597",
   "metadata": {},
   "outputs": [
    {
     "data": {
      "text/plain": [
       "0      서울\n",
       "1      서울\n",
       "2      서울\n",
       "3      서울\n",
       "4      서울\n",
       "       ..\n",
       "360    서울\n",
       "361    서울\n",
       "362    서울\n",
       "363    서울\n",
       "364    서울\n",
       "Name: 지점, Length: 365, dtype: object"
      ]
     },
     "execution_count": 7,
     "metadata": {},
     "output_type": "execute_result"
    }
   ],
   "source": [
    "df['지점'].replace('108','서울')"
   ]
  },
  {
   "cell_type": "code",
   "execution_count": 8,
   "id": "10c3e321",
   "metadata": {},
   "outputs": [
    {
     "data": {
      "text/html": [
       "<div>\n",
       "<style scoped>\n",
       "    .dataframe tbody tr th:only-of-type {\n",
       "        vertical-align: middle;\n",
       "    }\n",
       "\n",
       "    .dataframe tbody tr th {\n",
       "        vertical-align: top;\n",
       "    }\n",
       "\n",
       "    .dataframe thead th {\n",
       "        text-align: right;\n",
       "    }\n",
       "</style>\n",
       "<table border=\"1\" class=\"dataframe\">\n",
       "  <thead>\n",
       "    <tr style=\"text-align: right;\">\n",
       "      <th></th>\n",
       "      <th>날짜</th>\n",
       "      <th>지점</th>\n",
       "      <th>평균기온(℃)</th>\n",
       "      <th>최저기온(℃)</th>\n",
       "      <th>최고기온(℃)</th>\n",
       "    </tr>\n",
       "  </thead>\n",
       "  <tbody>\n",
       "    <tr>\n",
       "      <th>0</th>\n",
       "      <td>2019-01-01</td>\n",
       "      <td>서울</td>\n",
       "      <td>-5.0</td>\n",
       "      <td>-8.2</td>\n",
       "      <td>-0.6</td>\n",
       "    </tr>\n",
       "    <tr>\n",
       "      <th>1</th>\n",
       "      <td>2019-01-02</td>\n",
       "      <td>서울</td>\n",
       "      <td>-4.9</td>\n",
       "      <td>-8.8</td>\n",
       "      <td>0.2</td>\n",
       "    </tr>\n",
       "    <tr>\n",
       "      <th>2</th>\n",
       "      <td>2019-01-03</td>\n",
       "      <td>서울</td>\n",
       "      <td>-3.5</td>\n",
       "      <td>-8.4</td>\n",
       "      <td>3.2</td>\n",
       "    </tr>\n",
       "    <tr>\n",
       "      <th>3</th>\n",
       "      <td>2019-01-04</td>\n",
       "      <td>서울</td>\n",
       "      <td>-1.1</td>\n",
       "      <td>-6.2</td>\n",
       "      <td>4.1</td>\n",
       "    </tr>\n",
       "    <tr>\n",
       "      <th>4</th>\n",
       "      <td>2019-01-05</td>\n",
       "      <td>서울</td>\n",
       "      <td>-2.8</td>\n",
       "      <td>-5.5</td>\n",
       "      <td>1.1</td>\n",
       "    </tr>\n",
       "  </tbody>\n",
       "</table>\n",
       "</div>"
      ],
      "text/plain": [
       "          날짜  지점  평균기온(℃)  최저기온(℃)  최고기온(℃)\n",
       "0 2019-01-01  서울     -5.0     -8.2     -0.6\n",
       "1 2019-01-02  서울     -4.9     -8.8      0.2\n",
       "2 2019-01-03  서울     -3.5     -8.4      3.2\n",
       "3 2019-01-04  서울     -1.1     -6.2      4.1\n",
       "4 2019-01-05  서울     -2.8     -5.5      1.1"
      ]
     },
     "execution_count": 8,
     "metadata": {},
     "output_type": "execute_result"
    }
   ],
   "source": [
    "df.head()"
   ]
  },
  {
   "cell_type": "code",
   "execution_count": 9,
   "id": "b2ae42ee",
   "metadata": {},
   "outputs": [],
   "source": [
    "df.drop('최저기온(℃)', axis=1, inplace=True)"
   ]
  },
  {
   "cell_type": "code",
   "execution_count": 10,
   "id": "f01e43a5",
   "metadata": {},
   "outputs": [
    {
     "data": {
      "text/html": [
       "<div>\n",
       "<style scoped>\n",
       "    .dataframe tbody tr th:only-of-type {\n",
       "        vertical-align: middle;\n",
       "    }\n",
       "\n",
       "    .dataframe tbody tr th {\n",
       "        vertical-align: top;\n",
       "    }\n",
       "\n",
       "    .dataframe thead th {\n",
       "        text-align: right;\n",
       "    }\n",
       "</style>\n",
       "<table border=\"1\" class=\"dataframe\">\n",
       "  <thead>\n",
       "    <tr style=\"text-align: right;\">\n",
       "      <th></th>\n",
       "      <th>날짜</th>\n",
       "      <th>지점</th>\n",
       "      <th>평균기온(℃)</th>\n",
       "      <th>최고기온(℃)</th>\n",
       "    </tr>\n",
       "  </thead>\n",
       "  <tbody>\n",
       "    <tr>\n",
       "      <th>0</th>\n",
       "      <td>2019-01-01</td>\n",
       "      <td>서울</td>\n",
       "      <td>-5.0</td>\n",
       "      <td>-0.6</td>\n",
       "    </tr>\n",
       "    <tr>\n",
       "      <th>1</th>\n",
       "      <td>2019-01-02</td>\n",
       "      <td>서울</td>\n",
       "      <td>-4.9</td>\n",
       "      <td>0.2</td>\n",
       "    </tr>\n",
       "    <tr>\n",
       "      <th>2</th>\n",
       "      <td>2019-01-03</td>\n",
       "      <td>서울</td>\n",
       "      <td>-3.5</td>\n",
       "      <td>3.2</td>\n",
       "    </tr>\n",
       "    <tr>\n",
       "      <th>3</th>\n",
       "      <td>2019-01-04</td>\n",
       "      <td>서울</td>\n",
       "      <td>-1.1</td>\n",
       "      <td>4.1</td>\n",
       "    </tr>\n",
       "    <tr>\n",
       "      <th>4</th>\n",
       "      <td>2019-01-05</td>\n",
       "      <td>서울</td>\n",
       "      <td>-2.8</td>\n",
       "      <td>1.1</td>\n",
       "    </tr>\n",
       "  </tbody>\n",
       "</table>\n",
       "</div>"
      ],
      "text/plain": [
       "          날짜  지점  평균기온(℃)  최고기온(℃)\n",
       "0 2019-01-01  서울     -5.0     -0.6\n",
       "1 2019-01-02  서울     -4.9      0.2\n",
       "2 2019-01-03  서울     -3.5      3.2\n",
       "3 2019-01-04  서울     -1.1      4.1\n",
       "4 2019-01-05  서울     -2.8      1.1"
      ]
     },
     "execution_count": 10,
     "metadata": {},
     "output_type": "execute_result"
    }
   ],
   "source": [
    "df.head()"
   ]
  },
  {
   "cell_type": "code",
   "execution_count": 11,
   "id": "2fe6422c",
   "metadata": {},
   "outputs": [],
   "source": [
    "df.drop('최고기온(℃)', axis=1, inplace=True)"
   ]
  },
  {
   "cell_type": "code",
   "execution_count": 12,
   "id": "bc8cb0e9",
   "metadata": {},
   "outputs": [
    {
     "data": {
      "text/html": [
       "<div>\n",
       "<style scoped>\n",
       "    .dataframe tbody tr th:only-of-type {\n",
       "        vertical-align: middle;\n",
       "    }\n",
       "\n",
       "    .dataframe tbody tr th {\n",
       "        vertical-align: top;\n",
       "    }\n",
       "\n",
       "    .dataframe thead th {\n",
       "        text-align: right;\n",
       "    }\n",
       "</style>\n",
       "<table border=\"1\" class=\"dataframe\">\n",
       "  <thead>\n",
       "    <tr style=\"text-align: right;\">\n",
       "      <th></th>\n",
       "      <th>날짜</th>\n",
       "      <th>지점</th>\n",
       "      <th>평균기온(℃)</th>\n",
       "    </tr>\n",
       "  </thead>\n",
       "  <tbody>\n",
       "    <tr>\n",
       "      <th>0</th>\n",
       "      <td>2019-01-01</td>\n",
       "      <td>서울</td>\n",
       "      <td>-5.0</td>\n",
       "    </tr>\n",
       "    <tr>\n",
       "      <th>1</th>\n",
       "      <td>2019-01-02</td>\n",
       "      <td>서울</td>\n",
       "      <td>-4.9</td>\n",
       "    </tr>\n",
       "    <tr>\n",
       "      <th>2</th>\n",
       "      <td>2019-01-03</td>\n",
       "      <td>서울</td>\n",
       "      <td>-3.5</td>\n",
       "    </tr>\n",
       "    <tr>\n",
       "      <th>3</th>\n",
       "      <td>2019-01-04</td>\n",
       "      <td>서울</td>\n",
       "      <td>-1.1</td>\n",
       "    </tr>\n",
       "    <tr>\n",
       "      <th>4</th>\n",
       "      <td>2019-01-05</td>\n",
       "      <td>서울</td>\n",
       "      <td>-2.8</td>\n",
       "    </tr>\n",
       "  </tbody>\n",
       "</table>\n",
       "</div>"
      ],
      "text/plain": [
       "          날짜  지점  평균기온(℃)\n",
       "0 2019-01-01  서울     -5.0\n",
       "1 2019-01-02  서울     -4.9\n",
       "2 2019-01-03  서울     -3.5\n",
       "3 2019-01-04  서울     -1.1\n",
       "4 2019-01-05  서울     -2.8"
      ]
     },
     "execution_count": 12,
     "metadata": {},
     "output_type": "execute_result"
    }
   ],
   "source": [
    "df.head()"
   ]
  },
  {
   "cell_type": "code",
   "execution_count": 13,
   "id": "262e9d09",
   "metadata": {},
   "outputs": [
    {
     "data": {
      "text/html": [
       "<div>\n",
       "<style scoped>\n",
       "    .dataframe tbody tr th:only-of-type {\n",
       "        vertical-align: middle;\n",
       "    }\n",
       "\n",
       "    .dataframe tbody tr th {\n",
       "        vertical-align: top;\n",
       "    }\n",
       "\n",
       "    .dataframe thead th {\n",
       "        text-align: right;\n",
       "    }\n",
       "</style>\n",
       "<table border=\"1\" class=\"dataframe\">\n",
       "  <thead>\n",
       "    <tr style=\"text-align: right;\">\n",
       "      <th></th>\n",
       "      <th>날짜</th>\n",
       "      <th>지점</th>\n",
       "      <th>평균기온(℃)</th>\n",
       "    </tr>\n",
       "  </thead>\n",
       "  <tbody>\n",
       "    <tr>\n",
       "      <th>360</th>\n",
       "      <td>2019-12-27</td>\n",
       "      <td>서울</td>\n",
       "      <td>-1.7</td>\n",
       "    </tr>\n",
       "    <tr>\n",
       "      <th>361</th>\n",
       "      <td>2019-12-28</td>\n",
       "      <td>서울</td>\n",
       "      <td>1.1</td>\n",
       "    </tr>\n",
       "    <tr>\n",
       "      <th>362</th>\n",
       "      <td>2019-12-29</td>\n",
       "      <td>서울</td>\n",
       "      <td>3.8</td>\n",
       "    </tr>\n",
       "    <tr>\n",
       "      <th>363</th>\n",
       "      <td>2019-12-30</td>\n",
       "      <td>서울</td>\n",
       "      <td>2.7</td>\n",
       "    </tr>\n",
       "    <tr>\n",
       "      <th>364</th>\n",
       "      <td>2019-12-31</td>\n",
       "      <td>서울</td>\n",
       "      <td>-7.9</td>\n",
       "    </tr>\n",
       "  </tbody>\n",
       "</table>\n",
       "</div>"
      ],
      "text/plain": [
       "            날짜  지점  평균기온(℃)\n",
       "360 2019-12-27  서울     -1.7\n",
       "361 2019-12-28  서울      1.1\n",
       "362 2019-12-29  서울      3.8\n",
       "363 2019-12-30  서울      2.7\n",
       "364 2019-12-31  서울     -7.9"
      ]
     },
     "execution_count": 13,
     "metadata": {},
     "output_type": "execute_result"
    }
   ],
   "source": [
    "df.tail()"
   ]
  },
  {
   "cell_type": "code",
   "execution_count": 14,
   "id": "5ae0620e",
   "metadata": {},
   "outputs": [],
   "source": [
    "df.to_csv('temperature/2019/2019seoul.csv',sep=',')"
   ]
  },
  {
   "cell_type": "code",
   "execution_count": 17,
   "id": "d674d7d3",
   "metadata": {},
   "outputs": [],
   "source": [
    "# 데이터 파일 읽어오기 2019년 Busan\n",
    "df1 = pd.read_csv('temperature/2019/2019busan.csv', encoding='euc-kr')"
   ]
  },
  {
   "cell_type": "code",
   "execution_count": 19,
   "id": "a69eb41c",
   "metadata": {},
   "outputs": [
    {
     "name": "stdout",
     "output_type": "stream",
     "text": [
      "<class 'pandas.core.frame.DataFrame'>\n",
      "RangeIndex: 365 entries, 0 to 364\n",
      "Data columns (total 5 columns):\n",
      " #   Column   Non-Null Count  Dtype  \n",
      "---  ------   --------------  -----  \n",
      " 0   날짜       365 non-null    object \n",
      " 1   지점       365 non-null    object \n",
      " 2   평균기온(℃)  365 non-null    float64\n",
      " 3   최저기온(℃)  365 non-null    float64\n",
      " 4   최고기온(℃)  365 non-null    float64\n",
      "dtypes: float64(3), object(2)\n",
      "memory usage: 14.4+ KB\n"
     ]
    }
   ],
   "source": [
    "df1.info()"
   ]
  },
  {
   "cell_type": "code",
   "execution_count": 21,
   "id": "2109048f",
   "metadata": {},
   "outputs": [],
   "source": [
    "df1['날짜'] = pd.to_datetime(df1['날짜'])\n",
    "df1.drop('최저기온(℃)', axis=1, inplace=True)\n",
    "df1.drop('최고기온(℃)', axis=1, inplace=True)"
   ]
  },
  {
   "cell_type": "code",
   "execution_count": 22,
   "id": "3d48746e",
   "metadata": {},
   "outputs": [
    {
     "data": {
      "text/html": [
       "<div>\n",
       "<style scoped>\n",
       "    .dataframe tbody tr th:only-of-type {\n",
       "        vertical-align: middle;\n",
       "    }\n",
       "\n",
       "    .dataframe tbody tr th {\n",
       "        vertical-align: top;\n",
       "    }\n",
       "\n",
       "    .dataframe thead th {\n",
       "        text-align: right;\n",
       "    }\n",
       "</style>\n",
       "<table border=\"1\" class=\"dataframe\">\n",
       "  <thead>\n",
       "    <tr style=\"text-align: right;\">\n",
       "      <th></th>\n",
       "      <th>날짜</th>\n",
       "      <th>지점</th>\n",
       "      <th>평균기온(℃)</th>\n",
       "    </tr>\n",
       "  </thead>\n",
       "  <tbody>\n",
       "    <tr>\n",
       "      <th>0</th>\n",
       "      <td>2019-01-01</td>\n",
       "      <td>부산</td>\n",
       "      <td>1.0</td>\n",
       "    </tr>\n",
       "    <tr>\n",
       "      <th>1</th>\n",
       "      <td>2019-01-02</td>\n",
       "      <td>부산</td>\n",
       "      <td>1.2</td>\n",
       "    </tr>\n",
       "    <tr>\n",
       "      <th>2</th>\n",
       "      <td>2019-01-03</td>\n",
       "      <td>부산</td>\n",
       "      <td>3.0</td>\n",
       "    </tr>\n",
       "    <tr>\n",
       "      <th>3</th>\n",
       "      <td>2019-01-04</td>\n",
       "      <td>부산</td>\n",
       "      <td>5.0</td>\n",
       "    </tr>\n",
       "    <tr>\n",
       "      <th>4</th>\n",
       "      <td>2019-01-05</td>\n",
       "      <td>부산</td>\n",
       "      <td>5.5</td>\n",
       "    </tr>\n",
       "  </tbody>\n",
       "</table>\n",
       "</div>"
      ],
      "text/plain": [
       "          날짜  지점  평균기온(℃)\n",
       "0 2019-01-01  부산      1.0\n",
       "1 2019-01-02  부산      1.2\n",
       "2 2019-01-03  부산      3.0\n",
       "3 2019-01-04  부산      5.0\n",
       "4 2019-01-05  부산      5.5"
      ]
     },
     "execution_count": 22,
     "metadata": {},
     "output_type": "execute_result"
    }
   ],
   "source": [
    "df1.head()"
   ]
  },
  {
   "cell_type": "code",
   "execution_count": 23,
   "id": "39e2ede0",
   "metadata": {},
   "outputs": [
    {
     "name": "stdout",
     "output_type": "stream",
     "text": [
      "<class 'pandas.core.frame.DataFrame'>\n",
      "RangeIndex: 365 entries, 0 to 364\n",
      "Data columns (total 3 columns):\n",
      " #   Column   Non-Null Count  Dtype         \n",
      "---  ------   --------------  -----         \n",
      " 0   날짜       365 non-null    datetime64[ns]\n",
      " 1   지점       365 non-null    object        \n",
      " 2   평균기온(℃)  365 non-null    float64       \n",
      "dtypes: datetime64[ns](1), float64(1), object(1)\n",
      "memory usage: 8.7+ KB\n"
     ]
    }
   ],
   "source": [
    "df1.info()"
   ]
  },
  {
   "cell_type": "code",
   "execution_count": 25,
   "id": "c5b1fd8e",
   "metadata": {},
   "outputs": [],
   "source": [
    "df1.to_csv('temperature/2019/2019busan.csv',sep=',')"
   ]
  },
  {
   "cell_type": "code",
   "execution_count": 26,
   "id": "8c60b265",
   "metadata": {},
   "outputs": [
    {
     "data": {
      "text/html": [
       "<div>\n",
       "<style scoped>\n",
       "    .dataframe tbody tr th:only-of-type {\n",
       "        vertical-align: middle;\n",
       "    }\n",
       "\n",
       "    .dataframe tbody tr th {\n",
       "        vertical-align: top;\n",
       "    }\n",
       "\n",
       "    .dataframe thead th {\n",
       "        text-align: right;\n",
       "    }\n",
       "</style>\n",
       "<table border=\"1\" class=\"dataframe\">\n",
       "  <thead>\n",
       "    <tr style=\"text-align: right;\">\n",
       "      <th></th>\n",
       "      <th>날짜</th>\n",
       "      <th>지점</th>\n",
       "      <th>평균기온(℃)</th>\n",
       "    </tr>\n",
       "  </thead>\n",
       "  <tbody>\n",
       "    <tr>\n",
       "      <th>0</th>\n",
       "      <td>2019-01-01</td>\n",
       "      <td>부산</td>\n",
       "      <td>1.0</td>\n",
       "    </tr>\n",
       "    <tr>\n",
       "      <th>1</th>\n",
       "      <td>2019-01-02</td>\n",
       "      <td>부산</td>\n",
       "      <td>1.2</td>\n",
       "    </tr>\n",
       "    <tr>\n",
       "      <th>2</th>\n",
       "      <td>2019-01-03</td>\n",
       "      <td>부산</td>\n",
       "      <td>3.0</td>\n",
       "    </tr>\n",
       "    <tr>\n",
       "      <th>3</th>\n",
       "      <td>2019-01-04</td>\n",
       "      <td>부산</td>\n",
       "      <td>5.0</td>\n",
       "    </tr>\n",
       "    <tr>\n",
       "      <th>4</th>\n",
       "      <td>2019-01-05</td>\n",
       "      <td>부산</td>\n",
       "      <td>5.5</td>\n",
       "    </tr>\n",
       "  </tbody>\n",
       "</table>\n",
       "</div>"
      ],
      "text/plain": [
       "          날짜  지점  평균기온(℃)\n",
       "0 2019-01-01  부산      1.0\n",
       "1 2019-01-02  부산      1.2\n",
       "2 2019-01-03  부산      3.0\n",
       "3 2019-01-04  부산      5.0\n",
       "4 2019-01-05  부산      5.5"
      ]
     },
     "execution_count": 26,
     "metadata": {},
     "output_type": "execute_result"
    }
   ],
   "source": [
    "df1.head()"
   ]
  },
  {
   "cell_type": "code",
   "execution_count": 27,
   "id": "ebabe0af",
   "metadata": {},
   "outputs": [],
   "source": [
    "# 데이터 파일 읽어오기 2019년 Daegu\n",
    "df2 = pd.read_csv('temperature/2019/2019daegu.csv', encoding='euc-kr')"
   ]
  },
  {
   "cell_type": "code",
   "execution_count": 28,
   "id": "d6dd81de",
   "metadata": {},
   "outputs": [
    {
     "name": "stdout",
     "output_type": "stream",
     "text": [
      "<class 'pandas.core.frame.DataFrame'>\n",
      "RangeIndex: 365 entries, 0 to 364\n",
      "Data columns (total 5 columns):\n",
      " #   Column   Non-Null Count  Dtype  \n",
      "---  ------   --------------  -----  \n",
      " 0   날짜       365 non-null    object \n",
      " 1   지점       365 non-null    object \n",
      " 2   평균기온(℃)  365 non-null    float64\n",
      " 3   최저기온(℃)  365 non-null    float64\n",
      " 4   최고기온(℃)  365 non-null    float64\n",
      "dtypes: float64(3), object(2)\n",
      "memory usage: 14.4+ KB\n"
     ]
    }
   ],
   "source": [
    "df2.info()"
   ]
  },
  {
   "cell_type": "code",
   "execution_count": 29,
   "id": "529dadf5",
   "metadata": {},
   "outputs": [],
   "source": [
    "df2['날짜'] = pd.to_datetime(df2['날짜'])\n",
    "df2.drop('최저기온(℃)', axis=1, inplace=True)\n",
    "df2.drop('최고기온(℃)', axis=1, inplace=True)"
   ]
  },
  {
   "cell_type": "code",
   "execution_count": 30,
   "id": "3f625060",
   "metadata": {},
   "outputs": [
    {
     "data": {
      "text/html": [
       "<div>\n",
       "<style scoped>\n",
       "    .dataframe tbody tr th:only-of-type {\n",
       "        vertical-align: middle;\n",
       "    }\n",
       "\n",
       "    .dataframe tbody tr th {\n",
       "        vertical-align: top;\n",
       "    }\n",
       "\n",
       "    .dataframe thead th {\n",
       "        text-align: right;\n",
       "    }\n",
       "</style>\n",
       "<table border=\"1\" class=\"dataframe\">\n",
       "  <thead>\n",
       "    <tr style=\"text-align: right;\">\n",
       "      <th></th>\n",
       "      <th>날짜</th>\n",
       "      <th>지점</th>\n",
       "      <th>평균기온(℃)</th>\n",
       "    </tr>\n",
       "  </thead>\n",
       "  <tbody>\n",
       "    <tr>\n",
       "      <th>0</th>\n",
       "      <td>2019-01-01</td>\n",
       "      <td>대구</td>\n",
       "      <td>-0.6</td>\n",
       "    </tr>\n",
       "    <tr>\n",
       "      <th>1</th>\n",
       "      <td>2019-01-02</td>\n",
       "      <td>대구</td>\n",
       "      <td>-0.5</td>\n",
       "    </tr>\n",
       "    <tr>\n",
       "      <th>2</th>\n",
       "      <td>2019-01-03</td>\n",
       "      <td>대구</td>\n",
       "      <td>0.0</td>\n",
       "    </tr>\n",
       "    <tr>\n",
       "      <th>3</th>\n",
       "      <td>2019-01-04</td>\n",
       "      <td>대구</td>\n",
       "      <td>0.9</td>\n",
       "    </tr>\n",
       "    <tr>\n",
       "      <th>4</th>\n",
       "      <td>2019-01-05</td>\n",
       "      <td>대구</td>\n",
       "      <td>2.4</td>\n",
       "    </tr>\n",
       "  </tbody>\n",
       "</table>\n",
       "</div>"
      ],
      "text/plain": [
       "          날짜  지점  평균기온(℃)\n",
       "0 2019-01-01  대구     -0.6\n",
       "1 2019-01-02  대구     -0.5\n",
       "2 2019-01-03  대구      0.0\n",
       "3 2019-01-04  대구      0.9\n",
       "4 2019-01-05  대구      2.4"
      ]
     },
     "execution_count": 30,
     "metadata": {},
     "output_type": "execute_result"
    }
   ],
   "source": [
    "df2.head()"
   ]
  },
  {
   "cell_type": "code",
   "execution_count": 31,
   "id": "46510fbe",
   "metadata": {},
   "outputs": [],
   "source": [
    "df2.to_csv('temperature/2019/2019daegu.csv',sep=',')"
   ]
  },
  {
   "cell_type": "code",
   "execution_count": 32,
   "id": "072fdd09",
   "metadata": {},
   "outputs": [],
   "source": [
    "# 데이터 파일 읽어오기 2019년 Busan\n",
    "df3 = pd.read_csv('temperature/2019/2019incheon.csv', encoding='euc-kr')"
   ]
  },
  {
   "cell_type": "code",
   "execution_count": 34,
   "id": "eb290cad",
   "metadata": {},
   "outputs": [
    {
     "name": "stdout",
     "output_type": "stream",
     "text": [
      "<class 'pandas.core.frame.DataFrame'>\n",
      "RangeIndex: 365 entries, 0 to 364\n",
      "Data columns (total 5 columns):\n",
      " #   Column   Non-Null Count  Dtype  \n",
      "---  ------   --------------  -----  \n",
      " 0   날짜       365 non-null    object \n",
      " 1   지점       365 non-null    object \n",
      " 2   평균기온(℃)  365 non-null    float64\n",
      " 3   최저기온(℃)  365 non-null    float64\n",
      " 4   최고기온(℃)  365 non-null    float64\n",
      "dtypes: float64(3), object(2)\n",
      "memory usage: 14.4+ KB\n"
     ]
    }
   ],
   "source": [
    "df3.info()"
   ]
  },
  {
   "cell_type": "code",
   "execution_count": 35,
   "id": "241e43e4",
   "metadata": {},
   "outputs": [],
   "source": [
    "df3['날짜'] = pd.to_datetime(df3['날짜'])\n",
    "df3.drop('최저기온(℃)', axis=1, inplace=True)\n",
    "df3.drop('최고기온(℃)', axis=1, inplace=True)"
   ]
  },
  {
   "cell_type": "code",
   "execution_count": 36,
   "id": "2ed594b7",
   "metadata": {},
   "outputs": [
    {
     "data": {
      "text/html": [
       "<div>\n",
       "<style scoped>\n",
       "    .dataframe tbody tr th:only-of-type {\n",
       "        vertical-align: middle;\n",
       "    }\n",
       "\n",
       "    .dataframe tbody tr th {\n",
       "        vertical-align: top;\n",
       "    }\n",
       "\n",
       "    .dataframe thead th {\n",
       "        text-align: right;\n",
       "    }\n",
       "</style>\n",
       "<table border=\"1\" class=\"dataframe\">\n",
       "  <thead>\n",
       "    <tr style=\"text-align: right;\">\n",
       "      <th></th>\n",
       "      <th>날짜</th>\n",
       "      <th>지점</th>\n",
       "      <th>평균기온(℃)</th>\n",
       "    </tr>\n",
       "  </thead>\n",
       "  <tbody>\n",
       "    <tr>\n",
       "      <th>0</th>\n",
       "      <td>2019-01-01</td>\n",
       "      <td>인천</td>\n",
       "      <td>-4.4</td>\n",
       "    </tr>\n",
       "    <tr>\n",
       "      <th>1</th>\n",
       "      <td>2019-01-02</td>\n",
       "      <td>인천</td>\n",
       "      <td>-3.9</td>\n",
       "    </tr>\n",
       "    <tr>\n",
       "      <th>2</th>\n",
       "      <td>2019-01-03</td>\n",
       "      <td>인천</td>\n",
       "      <td>-2.6</td>\n",
       "    </tr>\n",
       "    <tr>\n",
       "      <th>3</th>\n",
       "      <td>2019-01-04</td>\n",
       "      <td>인천</td>\n",
       "      <td>-0.3</td>\n",
       "    </tr>\n",
       "    <tr>\n",
       "      <th>4</th>\n",
       "      <td>2019-01-05</td>\n",
       "      <td>인천</td>\n",
       "      <td>-2.8</td>\n",
       "    </tr>\n",
       "  </tbody>\n",
       "</table>\n",
       "</div>"
      ],
      "text/plain": [
       "          날짜  지점  평균기온(℃)\n",
       "0 2019-01-01  인천     -4.4\n",
       "1 2019-01-02  인천     -3.9\n",
       "2 2019-01-03  인천     -2.6\n",
       "3 2019-01-04  인천     -0.3\n",
       "4 2019-01-05  인천     -2.8"
      ]
     },
     "execution_count": 36,
     "metadata": {},
     "output_type": "execute_result"
    }
   ],
   "source": [
    "df3.head()"
   ]
  },
  {
   "cell_type": "code",
   "execution_count": 37,
   "id": "c1e1310f",
   "metadata": {},
   "outputs": [],
   "source": [
    "df3.to_csv('temperature/2019/2019incheon.csv',sep=',')"
   ]
  },
  {
   "cell_type": "code",
   "execution_count": 38,
   "id": "50eefa99",
   "metadata": {},
   "outputs": [],
   "source": [
    "# 데이터 파일 읽어오기 2019년 Busan\n",
    "df4 = pd.read_csv('temperature/2019/2019kwangju.csv', encoding='euc-kr')"
   ]
  },
  {
   "cell_type": "code",
   "execution_count": 39,
   "id": "e565567e",
   "metadata": {},
   "outputs": [
    {
     "name": "stdout",
     "output_type": "stream",
     "text": [
      "<class 'pandas.core.frame.DataFrame'>\n",
      "RangeIndex: 365 entries, 0 to 364\n",
      "Data columns (total 5 columns):\n",
      " #   Column   Non-Null Count  Dtype  \n",
      "---  ------   --------------  -----  \n",
      " 0   날짜       365 non-null    object \n",
      " 1   지점       365 non-null    object \n",
      " 2   평균기온(℃)  365 non-null    float64\n",
      " 3   최저기온(℃)  365 non-null    float64\n",
      " 4   최고기온(℃)  365 non-null    float64\n",
      "dtypes: float64(3), object(2)\n",
      "memory usage: 14.4+ KB\n"
     ]
    }
   ],
   "source": [
    "df4.info()"
   ]
  },
  {
   "cell_type": "code",
   "execution_count": 40,
   "id": "483fc817",
   "metadata": {},
   "outputs": [],
   "source": [
    "df4['날짜'] = pd.to_datetime(df4['날짜'])\n",
    "df4.drop('최저기온(℃)', axis=1, inplace=True)\n",
    "df4.drop('최고기온(℃)', axis=1, inplace=True)"
   ]
  },
  {
   "cell_type": "code",
   "execution_count": 41,
   "id": "e6ceac86",
   "metadata": {},
   "outputs": [
    {
     "data": {
      "text/html": [
       "<div>\n",
       "<style scoped>\n",
       "    .dataframe tbody tr th:only-of-type {\n",
       "        vertical-align: middle;\n",
       "    }\n",
       "\n",
       "    .dataframe tbody tr th {\n",
       "        vertical-align: top;\n",
       "    }\n",
       "\n",
       "    .dataframe thead th {\n",
       "        text-align: right;\n",
       "    }\n",
       "</style>\n",
       "<table border=\"1\" class=\"dataframe\">\n",
       "  <thead>\n",
       "    <tr style=\"text-align: right;\">\n",
       "      <th></th>\n",
       "      <th>날짜</th>\n",
       "      <th>지점</th>\n",
       "      <th>평균기온(℃)</th>\n",
       "    </tr>\n",
       "  </thead>\n",
       "  <tbody>\n",
       "    <tr>\n",
       "      <th>0</th>\n",
       "      <td>2019-01-01</td>\n",
       "      <td>광주</td>\n",
       "      <td>0.0</td>\n",
       "    </tr>\n",
       "    <tr>\n",
       "      <th>1</th>\n",
       "      <td>2019-01-02</td>\n",
       "      <td>광주</td>\n",
       "      <td>-0.1</td>\n",
       "    </tr>\n",
       "    <tr>\n",
       "      <th>2</th>\n",
       "      <td>2019-01-03</td>\n",
       "      <td>광주</td>\n",
       "      <td>0.5</td>\n",
       "    </tr>\n",
       "    <tr>\n",
       "      <th>3</th>\n",
       "      <td>2019-01-04</td>\n",
       "      <td>광주</td>\n",
       "      <td>0.7</td>\n",
       "    </tr>\n",
       "    <tr>\n",
       "      <th>4</th>\n",
       "      <td>2019-01-05</td>\n",
       "      <td>광주</td>\n",
       "      <td>2.0</td>\n",
       "    </tr>\n",
       "  </tbody>\n",
       "</table>\n",
       "</div>"
      ],
      "text/plain": [
       "          날짜  지점  평균기온(℃)\n",
       "0 2019-01-01  광주      0.0\n",
       "1 2019-01-02  광주     -0.1\n",
       "2 2019-01-03  광주      0.5\n",
       "3 2019-01-04  광주      0.7\n",
       "4 2019-01-05  광주      2.0"
      ]
     },
     "execution_count": 41,
     "metadata": {},
     "output_type": "execute_result"
    }
   ],
   "source": [
    "df4.head()"
   ]
  },
  {
   "cell_type": "code",
   "execution_count": 42,
   "id": "4084d517",
   "metadata": {},
   "outputs": [],
   "source": [
    "df4.to_csv('temperature/2019/2019kwangju.csv',sep=',')"
   ]
  },
  {
   "cell_type": "code",
   "execution_count": 43,
   "id": "498a2dfa",
   "metadata": {},
   "outputs": [],
   "source": [
    "# 데이터 파일 읽어오기 2019년 Daejeon\n",
    "df5 = pd.read_csv('temperature/2019/2019daejeon.csv', encoding='euc-kr')"
   ]
  },
  {
   "cell_type": "code",
   "execution_count": 44,
   "id": "d61c9d69",
   "metadata": {},
   "outputs": [
    {
     "name": "stdout",
     "output_type": "stream",
     "text": [
      "<class 'pandas.core.frame.DataFrame'>\n",
      "RangeIndex: 365 entries, 0 to 364\n",
      "Data columns (total 5 columns):\n",
      " #   Column   Non-Null Count  Dtype  \n",
      "---  ------   --------------  -----  \n",
      " 0   날짜       365 non-null    object \n",
      " 1   지점       365 non-null    object \n",
      " 2   평균기온(℃)  365 non-null    float64\n",
      " 3   최저기온(℃)  365 non-null    float64\n",
      " 4   최고기온(℃)  365 non-null    float64\n",
      "dtypes: float64(3), object(2)\n",
      "memory usage: 14.4+ KB\n"
     ]
    }
   ],
   "source": [
    "df5.info()"
   ]
  },
  {
   "cell_type": "code",
   "execution_count": 45,
   "id": "4e37e981",
   "metadata": {},
   "outputs": [],
   "source": [
    "df5['날짜'] = pd.to_datetime(df5['날짜'])\n",
    "df5.drop('최저기온(℃)', axis=1, inplace=True)\n",
    "df5.drop('최고기온(℃)', axis=1, inplace=True)"
   ]
  },
  {
   "cell_type": "code",
   "execution_count": 46,
   "id": "12df705d",
   "metadata": {},
   "outputs": [
    {
     "data": {
      "text/html": [
       "<div>\n",
       "<style scoped>\n",
       "    .dataframe tbody tr th:only-of-type {\n",
       "        vertical-align: middle;\n",
       "    }\n",
       "\n",
       "    .dataframe tbody tr th {\n",
       "        vertical-align: top;\n",
       "    }\n",
       "\n",
       "    .dataframe thead th {\n",
       "        text-align: right;\n",
       "    }\n",
       "</style>\n",
       "<table border=\"1\" class=\"dataframe\">\n",
       "  <thead>\n",
       "    <tr style=\"text-align: right;\">\n",
       "      <th></th>\n",
       "      <th>날짜</th>\n",
       "      <th>지점</th>\n",
       "      <th>평균기온(℃)</th>\n",
       "    </tr>\n",
       "  </thead>\n",
       "  <tbody>\n",
       "    <tr>\n",
       "      <th>0</th>\n",
       "      <td>2019-01-01</td>\n",
       "      <td>대전</td>\n",
       "      <td>-2.7</td>\n",
       "    </tr>\n",
       "    <tr>\n",
       "      <th>1</th>\n",
       "      <td>2019-01-02</td>\n",
       "      <td>대전</td>\n",
       "      <td>-3.3</td>\n",
       "    </tr>\n",
       "    <tr>\n",
       "      <th>2</th>\n",
       "      <td>2019-01-03</td>\n",
       "      <td>대전</td>\n",
       "      <td>-2.7</td>\n",
       "    </tr>\n",
       "    <tr>\n",
       "      <th>3</th>\n",
       "      <td>2019-01-04</td>\n",
       "      <td>대전</td>\n",
       "      <td>-1.6</td>\n",
       "    </tr>\n",
       "    <tr>\n",
       "      <th>4</th>\n",
       "      <td>2019-01-05</td>\n",
       "      <td>대전</td>\n",
       "      <td>-0.7</td>\n",
       "    </tr>\n",
       "  </tbody>\n",
       "</table>\n",
       "</div>"
      ],
      "text/plain": [
       "          날짜  지점  평균기온(℃)\n",
       "0 2019-01-01  대전     -2.7\n",
       "1 2019-01-02  대전     -3.3\n",
       "2 2019-01-03  대전     -2.7\n",
       "3 2019-01-04  대전     -1.6\n",
       "4 2019-01-05  대전     -0.7"
      ]
     },
     "execution_count": 46,
     "metadata": {},
     "output_type": "execute_result"
    }
   ],
   "source": [
    "df5.head()"
   ]
  },
  {
   "cell_type": "code",
   "execution_count": 47,
   "id": "b3fae6fc",
   "metadata": {},
   "outputs": [],
   "source": [
    "df5.to_csv('temperature/2019/2019daejeon.csv',sep=',')"
   ]
  },
  {
   "cell_type": "code",
   "execution_count": 48,
   "id": "7869f9d5",
   "metadata": {},
   "outputs": [],
   "source": [
    "# 데이터 파일 읽어오기 2019년 Ulsan\n",
    "df6 = pd.read_csv('temperature/2019/2019ulsan.csv', encoding='euc-kr')"
   ]
  },
  {
   "cell_type": "code",
   "execution_count": 49,
   "id": "26fbbe0c",
   "metadata": {},
   "outputs": [
    {
     "name": "stdout",
     "output_type": "stream",
     "text": [
      "<class 'pandas.core.frame.DataFrame'>\n",
      "RangeIndex: 365 entries, 0 to 364\n",
      "Data columns (total 5 columns):\n",
      " #   Column   Non-Null Count  Dtype  \n",
      "---  ------   --------------  -----  \n",
      " 0   날짜       365 non-null    object \n",
      " 1   지점       365 non-null    object \n",
      " 2   평균기온(℃)  365 non-null    float64\n",
      " 3   최저기온(℃)  365 non-null    float64\n",
      " 4   최고기온(℃)  365 non-null    float64\n",
      "dtypes: float64(3), object(2)\n",
      "memory usage: 14.4+ KB\n"
     ]
    }
   ],
   "source": [
    "df6.info()"
   ]
  },
  {
   "cell_type": "code",
   "execution_count": 50,
   "id": "3b10f093",
   "metadata": {},
   "outputs": [],
   "source": [
    "df6['날짜'] = pd.to_datetime(df6['날짜'])\n",
    "df6.drop('최저기온(℃)', axis=1, inplace=True)\n",
    "df6.drop('최고기온(℃)', axis=1, inplace=True)"
   ]
  },
  {
   "cell_type": "code",
   "execution_count": 51,
   "id": "76bf6081",
   "metadata": {},
   "outputs": [
    {
     "name": "stdout",
     "output_type": "stream",
     "text": [
      "<class 'pandas.core.frame.DataFrame'>\n",
      "RangeIndex: 365 entries, 0 to 364\n",
      "Data columns (total 3 columns):\n",
      " #   Column   Non-Null Count  Dtype         \n",
      "---  ------   --------------  -----         \n",
      " 0   날짜       365 non-null    datetime64[ns]\n",
      " 1   지점       365 non-null    object        \n",
      " 2   평균기온(℃)  365 non-null    float64       \n",
      "dtypes: datetime64[ns](1), float64(1), object(1)\n",
      "memory usage: 8.7+ KB\n"
     ]
    }
   ],
   "source": [
    "df6.info()"
   ]
  },
  {
   "cell_type": "code",
   "execution_count": 52,
   "id": "cb75b60a",
   "metadata": {},
   "outputs": [],
   "source": [
    "df6.to_csv('temperature/2019/2019ulsan.csv',sep=',')"
   ]
  },
  {
   "cell_type": "code",
   "execution_count": 57,
   "id": "dbd42f6b",
   "metadata": {},
   "outputs": [],
   "source": [
    "# 데이터 파일 읽어오기 2019년 Sejong\n",
    "df7 = pd.read_csv('temperature/2019/2019sejong.csv', encoding='euc-kr')"
   ]
  },
  {
   "cell_type": "code",
   "execution_count": 58,
   "id": "c0726bd7",
   "metadata": {},
   "outputs": [
    {
     "name": "stdout",
     "output_type": "stream",
     "text": [
      "<class 'pandas.core.frame.DataFrame'>\n",
      "RangeIndex: 365 entries, 0 to 364\n",
      "Data columns (total 5 columns):\n",
      " #   Column   Non-Null Count  Dtype  \n",
      "---  ------   --------------  -----  \n",
      " 0   날짜       365 non-null    object \n",
      " 1   지점       365 non-null    object \n",
      " 2   평균기온(℃)  365 non-null    float64\n",
      " 3   최저기온(℃)  365 non-null    float64\n",
      " 4   최고기온(℃)  365 non-null    float64\n",
      "dtypes: float64(3), object(2)\n",
      "memory usage: 14.4+ KB\n"
     ]
    }
   ],
   "source": [
    "df7.info()"
   ]
  },
  {
   "cell_type": "code",
   "execution_count": 59,
   "id": "f4543c27",
   "metadata": {},
   "outputs": [],
   "source": [
    "df7['날짜'] = pd.to_datetime(df7['날짜'])\n",
    "df7.drop('최저기온(℃)', axis=1, inplace=True)\n",
    "df7.drop('최고기온(℃)', axis=1, inplace=True)"
   ]
  },
  {
   "cell_type": "code",
   "execution_count": 60,
   "id": "b50157cd",
   "metadata": {},
   "outputs": [
    {
     "data": {
      "text/html": [
       "<div>\n",
       "<style scoped>\n",
       "    .dataframe tbody tr th:only-of-type {\n",
       "        vertical-align: middle;\n",
       "    }\n",
       "\n",
       "    .dataframe tbody tr th {\n",
       "        vertical-align: top;\n",
       "    }\n",
       "\n",
       "    .dataframe thead th {\n",
       "        text-align: right;\n",
       "    }\n",
       "</style>\n",
       "<table border=\"1\" class=\"dataframe\">\n",
       "  <thead>\n",
       "    <tr style=\"text-align: right;\">\n",
       "      <th></th>\n",
       "      <th>날짜</th>\n",
       "      <th>지점</th>\n",
       "      <th>평균기온(℃)</th>\n",
       "    </tr>\n",
       "  </thead>\n",
       "  <tbody>\n",
       "    <tr>\n",
       "      <th>0</th>\n",
       "      <td>2019-01-01</td>\n",
       "      <td>세종</td>\n",
       "      <td>-2.7</td>\n",
       "    </tr>\n",
       "    <tr>\n",
       "      <th>1</th>\n",
       "      <td>2019-01-02</td>\n",
       "      <td>세종</td>\n",
       "      <td>-3.1</td>\n",
       "    </tr>\n",
       "    <tr>\n",
       "      <th>2</th>\n",
       "      <td>2019-01-03</td>\n",
       "      <td>세종</td>\n",
       "      <td>-2.5</td>\n",
       "    </tr>\n",
       "    <tr>\n",
       "      <th>3</th>\n",
       "      <td>2019-01-04</td>\n",
       "      <td>세종</td>\n",
       "      <td>-1.2</td>\n",
       "    </tr>\n",
       "    <tr>\n",
       "      <th>4</th>\n",
       "      <td>2019-01-05</td>\n",
       "      <td>세종</td>\n",
       "      <td>-0.7</td>\n",
       "    </tr>\n",
       "  </tbody>\n",
       "</table>\n",
       "</div>"
      ],
      "text/plain": [
       "          날짜  지점  평균기온(℃)\n",
       "0 2019-01-01  세종     -2.7\n",
       "1 2019-01-02  세종     -3.1\n",
       "2 2019-01-03  세종     -2.5\n",
       "3 2019-01-04  세종     -1.2\n",
       "4 2019-01-05  세종     -0.7"
      ]
     },
     "execution_count": 60,
     "metadata": {},
     "output_type": "execute_result"
    }
   ],
   "source": [
    "df7.head()"
   ]
  },
  {
   "cell_type": "code",
   "execution_count": 61,
   "id": "98af78c2",
   "metadata": {},
   "outputs": [],
   "source": [
    "df7.to_csv('temperature/2019/2019sejong.csv',sep=',')"
   ]
  },
  {
   "cell_type": "code",
   "execution_count": 74,
   "id": "06a3a333",
   "metadata": {},
   "outputs": [],
   "source": [
    "# 데이터 파일 읽어오기 2019년 chungbuk\n",
    "df8 = pd.read_csv('temperature/2019/2019chungbuk.csv', encoding='UTF-8')"
   ]
  },
  {
   "cell_type": "code",
   "execution_count": 75,
   "id": "8084d824",
   "metadata": {},
   "outputs": [
    {
     "name": "stdout",
     "output_type": "stream",
     "text": [
      "<class 'pandas.core.frame.DataFrame'>\n",
      "RangeIndex: 365 entries, 0 to 364\n",
      "Data columns (total 5 columns):\n",
      " #   Column   Non-Null Count  Dtype  \n",
      "---  ------   --------------  -----  \n",
      " 0   날짜       365 non-null    object \n",
      " 1   지점       365 non-null    object \n",
      " 2   평균기온(℃)  365 non-null    float64\n",
      " 3   최저기온(℃)  365 non-null    float64\n",
      " 4   최고기온(℃)  365 non-null    float64\n",
      "dtypes: float64(3), object(2)\n",
      "memory usage: 14.4+ KB\n"
     ]
    }
   ],
   "source": [
    "df8.info()"
   ]
  },
  {
   "cell_type": "code",
   "execution_count": 76,
   "id": "b6a754bb",
   "metadata": {},
   "outputs": [
    {
     "data": {
      "text/html": [
       "<div>\n",
       "<style scoped>\n",
       "    .dataframe tbody tr th:only-of-type {\n",
       "        vertical-align: middle;\n",
       "    }\n",
       "\n",
       "    .dataframe tbody tr th {\n",
       "        vertical-align: top;\n",
       "    }\n",
       "\n",
       "    .dataframe thead th {\n",
       "        text-align: right;\n",
       "    }\n",
       "</style>\n",
       "<table border=\"1\" class=\"dataframe\">\n",
       "  <thead>\n",
       "    <tr style=\"text-align: right;\">\n",
       "      <th></th>\n",
       "      <th>날짜</th>\n",
       "      <th>지점</th>\n",
       "      <th>평균기온(℃)</th>\n",
       "      <th>최저기온(℃)</th>\n",
       "      <th>최고기온(℃)</th>\n",
       "    </tr>\n",
       "  </thead>\n",
       "  <tbody>\n",
       "    <tr>\n",
       "      <th>0</th>\n",
       "      <td>2019-01-01</td>\n",
       "      <td>충북</td>\n",
       "      <td>-4.2</td>\n",
       "      <td>-8.5</td>\n",
       "      <td>-0.1</td>\n",
       "    </tr>\n",
       "    <tr>\n",
       "      <th>1</th>\n",
       "      <td>2019-01-02</td>\n",
       "      <td>충북</td>\n",
       "      <td>-5.1</td>\n",
       "      <td>-10.1</td>\n",
       "      <td>0.9</td>\n",
       "    </tr>\n",
       "    <tr>\n",
       "      <th>2</th>\n",
       "      <td>2019-01-03</td>\n",
       "      <td>충북</td>\n",
       "      <td>-5.0</td>\n",
       "      <td>-11.5</td>\n",
       "      <td>3.0</td>\n",
       "    </tr>\n",
       "    <tr>\n",
       "      <th>3</th>\n",
       "      <td>2019-01-04</td>\n",
       "      <td>충북</td>\n",
       "      <td>-3.1</td>\n",
       "      <td>-10.8</td>\n",
       "      <td>3.2</td>\n",
       "    </tr>\n",
       "    <tr>\n",
       "      <th>4</th>\n",
       "      <td>2019-01-05</td>\n",
       "      <td>충북</td>\n",
       "      <td>-2.1</td>\n",
       "      <td>-7.4</td>\n",
       "      <td>3.0</td>\n",
       "    </tr>\n",
       "  </tbody>\n",
       "</table>\n",
       "</div>"
      ],
      "text/plain": [
       "           날짜  지점  평균기온(℃)  최저기온(℃)  최고기온(℃)\n",
       "0  2019-01-01  충북     -4.2     -8.5     -0.1\n",
       "1  2019-01-02  충북     -5.1    -10.1      0.9\n",
       "2  2019-01-03  충북     -5.0    -11.5      3.0\n",
       "3  2019-01-04  충북     -3.1    -10.8      3.2\n",
       "4  2019-01-05  충북     -2.1     -7.4      3.0"
      ]
     },
     "execution_count": 76,
     "metadata": {},
     "output_type": "execute_result"
    }
   ],
   "source": [
    "df8.head()"
   ]
  },
  {
   "cell_type": "code",
   "execution_count": 77,
   "id": "726775f2",
   "metadata": {},
   "outputs": [],
   "source": [
    "df8['날짜'] = pd.to_datetime(df8['날짜'])\n",
    "df8.drop('최저기온(℃)', axis=1, inplace=True)\n",
    "df8.drop('최고기온(℃)', axis=1, inplace=True)"
   ]
  },
  {
   "cell_type": "code",
   "execution_count": 78,
   "id": "10225710",
   "metadata": {},
   "outputs": [],
   "source": [
    "df8.to_csv('temperature/2019/2019chungbuk.csv',sep=',')"
   ]
  },
  {
   "cell_type": "code",
   "execution_count": 81,
   "id": "63729100",
   "metadata": {},
   "outputs": [],
   "source": [
    "# 데이터 파일 읽어오기 2019년 chungnam\n",
    "df9 = pd.read_csv('temperature/2019/2019chungnam.csv', encoding='euc-kr')"
   ]
  },
  {
   "cell_type": "code",
   "execution_count": 82,
   "id": "ca29cef8",
   "metadata": {},
   "outputs": [
    {
     "name": "stdout",
     "output_type": "stream",
     "text": [
      "<class 'pandas.core.frame.DataFrame'>\n",
      "RangeIndex: 364 entries, 0 to 363\n",
      "Data columns (total 5 columns):\n",
      " #   Column   Non-Null Count  Dtype  \n",
      "---  ------   --------------  -----  \n",
      " 0   날짜       364 non-null    object \n",
      " 1   지점       364 non-null    object \n",
      " 2   평균기온(℃)  364 non-null    float64\n",
      " 3   최저기온(℃)  364 non-null    float64\n",
      " 4   최고기온(℃)  364 non-null    float64\n",
      "dtypes: float64(3), object(2)\n",
      "memory usage: 14.3+ KB\n"
     ]
    }
   ],
   "source": [
    "df9.info()"
   ]
  },
  {
   "cell_type": "code",
   "execution_count": 83,
   "id": "acfad14b",
   "metadata": {},
   "outputs": [],
   "source": [
    "df9['날짜'] = pd.to_datetime(df9['날짜'])\n",
    "df9.drop('최저기온(℃)', axis=1, inplace=True)\n",
    "df9.drop('최고기온(℃)', axis=1, inplace=True)"
   ]
  },
  {
   "cell_type": "code",
   "execution_count": 85,
   "id": "b0ec81d9",
   "metadata": {},
   "outputs": [],
   "source": [
    "df9.to_csv('temperature/2019/2019chungnam.csv',sep=',')"
   ]
  },
  {
   "cell_type": "code",
   "execution_count": 86,
   "id": "cfdce6d7",
   "metadata": {},
   "outputs": [
    {
     "data": {
      "text/html": [
       "<div>\n",
       "<style scoped>\n",
       "    .dataframe tbody tr th:only-of-type {\n",
       "        vertical-align: middle;\n",
       "    }\n",
       "\n",
       "    .dataframe tbody tr th {\n",
       "        vertical-align: top;\n",
       "    }\n",
       "\n",
       "    .dataframe thead th {\n",
       "        text-align: right;\n",
       "    }\n",
       "</style>\n",
       "<table border=\"1\" class=\"dataframe\">\n",
       "  <thead>\n",
       "    <tr style=\"text-align: right;\">\n",
       "      <th></th>\n",
       "      <th>날짜</th>\n",
       "      <th>지점</th>\n",
       "      <th>평균기온(℃)</th>\n",
       "    </tr>\n",
       "  </thead>\n",
       "  <tbody>\n",
       "    <tr>\n",
       "      <th>0</th>\n",
       "      <td>2019-01-02</td>\n",
       "      <td>충남</td>\n",
       "      <td>-4.5</td>\n",
       "    </tr>\n",
       "    <tr>\n",
       "      <th>1</th>\n",
       "      <td>2019-01-03</td>\n",
       "      <td>충남</td>\n",
       "      <td>-4.1</td>\n",
       "    </tr>\n",
       "    <tr>\n",
       "      <th>2</th>\n",
       "      <td>2019-01-04</td>\n",
       "      <td>충남</td>\n",
       "      <td>-2.9</td>\n",
       "    </tr>\n",
       "    <tr>\n",
       "      <th>3</th>\n",
       "      <td>2019-01-05</td>\n",
       "      <td>충남</td>\n",
       "      <td>-2.0</td>\n",
       "    </tr>\n",
       "    <tr>\n",
       "      <th>4</th>\n",
       "      <td>2019-01-06</td>\n",
       "      <td>충남</td>\n",
       "      <td>-3.6</td>\n",
       "    </tr>\n",
       "  </tbody>\n",
       "</table>\n",
       "</div>"
      ],
      "text/plain": [
       "          날짜  지점  평균기온(℃)\n",
       "0 2019-01-02  충남     -4.5\n",
       "1 2019-01-03  충남     -4.1\n",
       "2 2019-01-04  충남     -2.9\n",
       "3 2019-01-05  충남     -2.0\n",
       "4 2019-01-06  충남     -3.6"
      ]
     },
     "execution_count": 86,
     "metadata": {},
     "output_type": "execute_result"
    }
   ],
   "source": [
    "df9.head()"
   ]
  },
  {
   "cell_type": "code",
   "execution_count": 89,
   "id": "92953075",
   "metadata": {},
   "outputs": [],
   "source": [
    "# 데이터 파일 읽어오기 2019년 jeonbuk\n",
    "df10 = pd.read_csv('temperature/2019/2019jeonbuk.csv', encoding='euc-kr')"
   ]
  },
  {
   "cell_type": "code",
   "execution_count": 90,
   "id": "4aabc55a",
   "metadata": {},
   "outputs": [
    {
     "name": "stdout",
     "output_type": "stream",
     "text": [
      "<class 'pandas.core.frame.DataFrame'>\n",
      "RangeIndex: 365 entries, 0 to 364\n",
      "Data columns (total 5 columns):\n",
      " #   Column   Non-Null Count  Dtype  \n",
      "---  ------   --------------  -----  \n",
      " 0   날짜       365 non-null    object \n",
      " 1   지점       365 non-null    object \n",
      " 2   평균기온(℃)  365 non-null    float64\n",
      " 3   최저기온(℃)  365 non-null    float64\n",
      " 4   최고기온(℃)  365 non-null    float64\n",
      "dtypes: float64(3), object(2)\n",
      "memory usage: 14.4+ KB\n"
     ]
    }
   ],
   "source": [
    "df10.info()"
   ]
  },
  {
   "cell_type": "code",
   "execution_count": 91,
   "id": "12969b55",
   "metadata": {},
   "outputs": [],
   "source": [
    "df10['날짜'] = pd.to_datetime(df10['날짜'])\n",
    "df10.drop('최저기온(℃)', axis=1, inplace=True)\n",
    "df10.drop('최고기온(℃)', axis=1, inplace=True)"
   ]
  },
  {
   "cell_type": "code",
   "execution_count": 92,
   "id": "8631a85b",
   "metadata": {},
   "outputs": [
    {
     "data": {
      "text/html": [
       "<div>\n",
       "<style scoped>\n",
       "    .dataframe tbody tr th:only-of-type {\n",
       "        vertical-align: middle;\n",
       "    }\n",
       "\n",
       "    .dataframe tbody tr th {\n",
       "        vertical-align: top;\n",
       "    }\n",
       "\n",
       "    .dataframe thead th {\n",
       "        text-align: right;\n",
       "    }\n",
       "</style>\n",
       "<table border=\"1\" class=\"dataframe\">\n",
       "  <thead>\n",
       "    <tr style=\"text-align: right;\">\n",
       "      <th></th>\n",
       "      <th>날짜</th>\n",
       "      <th>지점</th>\n",
       "      <th>평균기온(℃)</th>\n",
       "    </tr>\n",
       "  </thead>\n",
       "  <tbody>\n",
       "    <tr>\n",
       "      <th>0</th>\n",
       "      <td>2019-01-01</td>\n",
       "      <td>전북</td>\n",
       "      <td>-0.8</td>\n",
       "    </tr>\n",
       "    <tr>\n",
       "      <th>1</th>\n",
       "      <td>2019-01-02</td>\n",
       "      <td>전북</td>\n",
       "      <td>-1.5</td>\n",
       "    </tr>\n",
       "    <tr>\n",
       "      <th>2</th>\n",
       "      <td>2019-01-03</td>\n",
       "      <td>전북</td>\n",
       "      <td>-2.1</td>\n",
       "    </tr>\n",
       "    <tr>\n",
       "      <th>3</th>\n",
       "      <td>2019-01-04</td>\n",
       "      <td>전북</td>\n",
       "      <td>-1.2</td>\n",
       "    </tr>\n",
       "    <tr>\n",
       "      <th>4</th>\n",
       "      <td>2019-01-05</td>\n",
       "      <td>전북</td>\n",
       "      <td>0.1</td>\n",
       "    </tr>\n",
       "  </tbody>\n",
       "</table>\n",
       "</div>"
      ],
      "text/plain": [
       "          날짜  지점  평균기온(℃)\n",
       "0 2019-01-01  전북     -0.8\n",
       "1 2019-01-02  전북     -1.5\n",
       "2 2019-01-03  전북     -2.1\n",
       "3 2019-01-04  전북     -1.2\n",
       "4 2019-01-05  전북      0.1"
      ]
     },
     "execution_count": 92,
     "metadata": {},
     "output_type": "execute_result"
    }
   ],
   "source": [
    "df10.head()"
   ]
  },
  {
   "cell_type": "code",
   "execution_count": 93,
   "id": "f38d9de9",
   "metadata": {},
   "outputs": [],
   "source": [
    "df10.to_csv('temperature/2019/2019jeonbuk.csv',sep=',')"
   ]
  },
  {
   "cell_type": "code",
   "execution_count": 95,
   "id": "f32432da",
   "metadata": {},
   "outputs": [],
   "source": [
    "# 데이터 파일 읽어오기 2019년 jeonnam\n",
    "df11 = pd.read_csv('temperature/2019/2019jeonnam.csv', encoding='euc-kr')"
   ]
  },
  {
   "cell_type": "code",
   "execution_count": 96,
   "id": "a69755cd",
   "metadata": {},
   "outputs": [
    {
     "name": "stdout",
     "output_type": "stream",
     "text": [
      "<class 'pandas.core.frame.DataFrame'>\n",
      "RangeIndex: 365 entries, 0 to 364\n",
      "Data columns (total 5 columns):\n",
      " #   Column   Non-Null Count  Dtype  \n",
      "---  ------   --------------  -----  \n",
      " 0   날짜       365 non-null    object \n",
      " 1   지점       365 non-null    object \n",
      " 2   평균기온(℃)  365 non-null    float64\n",
      " 3   최저기온(℃)  365 non-null    float64\n",
      " 4   최고기온(℃)  365 non-null    float64\n",
      "dtypes: float64(3), object(2)\n",
      "memory usage: 14.4+ KB\n"
     ]
    }
   ],
   "source": [
    "df11.info()"
   ]
  },
  {
   "cell_type": "code",
   "execution_count": 98,
   "id": "b6b796eb",
   "metadata": {},
   "outputs": [],
   "source": [
    "df11['날짜'] = pd.to_datetime(df11['날짜'])\n",
    "df11.drop('최저기온(℃)', axis=1, inplace=True)\n",
    "df11.drop('최고기온(℃)', axis=1, inplace=True)"
   ]
  },
  {
   "cell_type": "code",
   "execution_count": 99,
   "id": "a9ae6417",
   "metadata": {},
   "outputs": [
    {
     "data": {
      "text/html": [
       "<div>\n",
       "<style scoped>\n",
       "    .dataframe tbody tr th:only-of-type {\n",
       "        vertical-align: middle;\n",
       "    }\n",
       "\n",
       "    .dataframe tbody tr th {\n",
       "        vertical-align: top;\n",
       "    }\n",
       "\n",
       "    .dataframe thead th {\n",
       "        text-align: right;\n",
       "    }\n",
       "</style>\n",
       "<table border=\"1\" class=\"dataframe\">\n",
       "  <thead>\n",
       "    <tr style=\"text-align: right;\">\n",
       "      <th></th>\n",
       "      <th>날짜</th>\n",
       "      <th>지점</th>\n",
       "      <th>평균기온(℃)</th>\n",
       "    </tr>\n",
       "  </thead>\n",
       "  <tbody>\n",
       "    <tr>\n",
       "      <th>0</th>\n",
       "      <td>2019-01-01</td>\n",
       "      <td>전남</td>\n",
       "      <td>1.1</td>\n",
       "    </tr>\n",
       "    <tr>\n",
       "      <th>1</th>\n",
       "      <td>2019-01-02</td>\n",
       "      <td>전남</td>\n",
       "      <td>0.9</td>\n",
       "    </tr>\n",
       "    <tr>\n",
       "      <th>2</th>\n",
       "      <td>2019-01-03</td>\n",
       "      <td>전남</td>\n",
       "      <td>0.6</td>\n",
       "    </tr>\n",
       "    <tr>\n",
       "      <th>3</th>\n",
       "      <td>2019-01-04</td>\n",
       "      <td>전남</td>\n",
       "      <td>0.5</td>\n",
       "    </tr>\n",
       "    <tr>\n",
       "      <th>4</th>\n",
       "      <td>2019-01-05</td>\n",
       "      <td>전남</td>\n",
       "      <td>2.9</td>\n",
       "    </tr>\n",
       "  </tbody>\n",
       "</table>\n",
       "</div>"
      ],
      "text/plain": [
       "          날짜  지점  평균기온(℃)\n",
       "0 2019-01-01  전남      1.1\n",
       "1 2019-01-02  전남      0.9\n",
       "2 2019-01-03  전남      0.6\n",
       "3 2019-01-04  전남      0.5\n",
       "4 2019-01-05  전남      2.9"
      ]
     },
     "execution_count": 99,
     "metadata": {},
     "output_type": "execute_result"
    }
   ],
   "source": [
    "df11.head()"
   ]
  },
  {
   "cell_type": "code",
   "execution_count": 100,
   "id": "94c962bf",
   "metadata": {},
   "outputs": [],
   "source": [
    "df11.to_csv('temperature/2019/2019jeonnam.csv',sep=',')"
   ]
  },
  {
   "cell_type": "code",
   "execution_count": 101,
   "id": "254c1150",
   "metadata": {},
   "outputs": [],
   "source": [
    "# 데이터 파일 읽어오기 2019년 kyoungbuk\n",
    "df12 = pd.read_csv('temperature/2019/2019kyoungbuk.csv', encoding='euc-kr')"
   ]
  },
  {
   "cell_type": "code",
   "execution_count": 102,
   "id": "7b726cf0",
   "metadata": {},
   "outputs": [
    {
     "name": "stdout",
     "output_type": "stream",
     "text": [
      "<class 'pandas.core.frame.DataFrame'>\n",
      "RangeIndex: 365 entries, 0 to 364\n",
      "Data columns (total 5 columns):\n",
      " #   Column   Non-Null Count  Dtype  \n",
      "---  ------   --------------  -----  \n",
      " 0   날짜       365 non-null    object \n",
      " 1   지점       365 non-null    object \n",
      " 2   평균기온(℃)  365 non-null    float64\n",
      " 3   최저기온(℃)  365 non-null    float64\n",
      " 4   최고기온(℃)  365 non-null    float64\n",
      "dtypes: float64(3), object(2)\n",
      "memory usage: 14.4+ KB\n"
     ]
    }
   ],
   "source": [
    "df12.info()"
   ]
  },
  {
   "cell_type": "code",
   "execution_count": 103,
   "id": "b311067a",
   "metadata": {},
   "outputs": [],
   "source": [
    "df12['날짜'] = pd.to_datetime(df12['날짜'])\n",
    "df12.drop('최저기온(℃)', axis=1, inplace=True)\n",
    "df12.drop('최고기온(℃)', axis=1, inplace=True)"
   ]
  },
  {
   "cell_type": "code",
   "execution_count": 104,
   "id": "a77f416a",
   "metadata": {},
   "outputs": [
    {
     "data": {
      "text/html": [
       "<div>\n",
       "<style scoped>\n",
       "    .dataframe tbody tr th:only-of-type {\n",
       "        vertical-align: middle;\n",
       "    }\n",
       "\n",
       "    .dataframe tbody tr th {\n",
       "        vertical-align: top;\n",
       "    }\n",
       "\n",
       "    .dataframe thead th {\n",
       "        text-align: right;\n",
       "    }\n",
       "</style>\n",
       "<table border=\"1\" class=\"dataframe\">\n",
       "  <thead>\n",
       "    <tr style=\"text-align: right;\">\n",
       "      <th></th>\n",
       "      <th>날짜</th>\n",
       "      <th>지점</th>\n",
       "      <th>평균기온(℃)</th>\n",
       "    </tr>\n",
       "  </thead>\n",
       "  <tbody>\n",
       "    <tr>\n",
       "      <th>0</th>\n",
       "      <td>2019-01-01</td>\n",
       "      <td>경북</td>\n",
       "      <td>-1.7</td>\n",
       "    </tr>\n",
       "    <tr>\n",
       "      <th>1</th>\n",
       "      <td>2019-01-02</td>\n",
       "      <td>경북</td>\n",
       "      <td>-1.8</td>\n",
       "    </tr>\n",
       "    <tr>\n",
       "      <th>2</th>\n",
       "      <td>2019-01-03</td>\n",
       "      <td>경북</td>\n",
       "      <td>-1.2</td>\n",
       "    </tr>\n",
       "    <tr>\n",
       "      <th>3</th>\n",
       "      <td>2019-01-04</td>\n",
       "      <td>경북</td>\n",
       "      <td>0.4</td>\n",
       "    </tr>\n",
       "    <tr>\n",
       "      <th>4</th>\n",
       "      <td>2019-01-05</td>\n",
       "      <td>경북</td>\n",
       "      <td>1.1</td>\n",
       "    </tr>\n",
       "  </tbody>\n",
       "</table>\n",
       "</div>"
      ],
      "text/plain": [
       "          날짜  지점  평균기온(℃)\n",
       "0 2019-01-01  경북     -1.7\n",
       "1 2019-01-02  경북     -1.8\n",
       "2 2019-01-03  경북     -1.2\n",
       "3 2019-01-04  경북      0.4\n",
       "4 2019-01-05  경북      1.1"
      ]
     },
     "execution_count": 104,
     "metadata": {},
     "output_type": "execute_result"
    }
   ],
   "source": [
    "df12.head()"
   ]
  },
  {
   "cell_type": "code",
   "execution_count": 105,
   "id": "a7c2dd36",
   "metadata": {},
   "outputs": [],
   "source": [
    "df12.to_csv('temperature/2019/2019kyoungbuk.csv',sep=',')"
   ]
  },
  {
   "cell_type": "code",
   "execution_count": 106,
   "id": "f27a06ba",
   "metadata": {},
   "outputs": [],
   "source": [
    "# 데이터 파일 읽어오기 2019년 kyoungnam\n",
    "df13 = pd.read_csv('temperature/2019/2019kyoungnam.csv', encoding='euc-kr')"
   ]
  },
  {
   "cell_type": "code",
   "execution_count": 107,
   "id": "843e3b65",
   "metadata": {},
   "outputs": [
    {
     "name": "stdout",
     "output_type": "stream",
     "text": [
      "<class 'pandas.core.frame.DataFrame'>\n",
      "RangeIndex: 365 entries, 0 to 364\n",
      "Data columns (total 5 columns):\n",
      " #   Column   Non-Null Count  Dtype  \n",
      "---  ------   --------------  -----  \n",
      " 0   날짜       365 non-null    object \n",
      " 1   지점       365 non-null    object \n",
      " 2   평균기온(℃)  365 non-null    float64\n",
      " 3   최저기온(℃)  365 non-null    float64\n",
      " 4   최고기온(℃)  365 non-null    float64\n",
      "dtypes: float64(3), object(2)\n",
      "memory usage: 14.4+ KB\n"
     ]
    }
   ],
   "source": [
    "df13.info()"
   ]
  },
  {
   "cell_type": "code",
   "execution_count": 108,
   "id": "9760aa7b",
   "metadata": {},
   "outputs": [],
   "source": [
    "df13['날짜'] = pd.to_datetime(df13['날짜'])\n",
    "df13.drop('최저기온(℃)', axis=1, inplace=True)\n",
    "df13.drop('최고기온(℃)', axis=1, inplace=True)"
   ]
  },
  {
   "cell_type": "code",
   "execution_count": 109,
   "id": "135d2a9f",
   "metadata": {},
   "outputs": [
    {
     "data": {
      "text/html": [
       "<div>\n",
       "<style scoped>\n",
       "    .dataframe tbody tr th:only-of-type {\n",
       "        vertical-align: middle;\n",
       "    }\n",
       "\n",
       "    .dataframe tbody tr th {\n",
       "        vertical-align: top;\n",
       "    }\n",
       "\n",
       "    .dataframe thead th {\n",
       "        text-align: right;\n",
       "    }\n",
       "</style>\n",
       "<table border=\"1\" class=\"dataframe\">\n",
       "  <thead>\n",
       "    <tr style=\"text-align: right;\">\n",
       "      <th></th>\n",
       "      <th>날짜</th>\n",
       "      <th>지점</th>\n",
       "      <th>평균기온(℃)</th>\n",
       "    </tr>\n",
       "  </thead>\n",
       "  <tbody>\n",
       "    <tr>\n",
       "      <th>0</th>\n",
       "      <td>2019-01-01</td>\n",
       "      <td>경남</td>\n",
       "      <td>-0.5</td>\n",
       "    </tr>\n",
       "    <tr>\n",
       "      <th>1</th>\n",
       "      <td>2019-01-02</td>\n",
       "      <td>경남</td>\n",
       "      <td>-0.7</td>\n",
       "    </tr>\n",
       "    <tr>\n",
       "      <th>2</th>\n",
       "      <td>2019-01-03</td>\n",
       "      <td>경남</td>\n",
       "      <td>-0.4</td>\n",
       "    </tr>\n",
       "    <tr>\n",
       "      <th>3</th>\n",
       "      <td>2019-01-04</td>\n",
       "      <td>경남</td>\n",
       "      <td>1.3</td>\n",
       "    </tr>\n",
       "    <tr>\n",
       "      <th>4</th>\n",
       "      <td>2019-01-05</td>\n",
       "      <td>경남</td>\n",
       "      <td>2.7</td>\n",
       "    </tr>\n",
       "  </tbody>\n",
       "</table>\n",
       "</div>"
      ],
      "text/plain": [
       "          날짜  지점  평균기온(℃)\n",
       "0 2019-01-01  경남     -0.5\n",
       "1 2019-01-02  경남     -0.7\n",
       "2 2019-01-03  경남     -0.4\n",
       "3 2019-01-04  경남      1.3\n",
       "4 2019-01-05  경남      2.7"
      ]
     },
     "execution_count": 109,
     "metadata": {},
     "output_type": "execute_result"
    }
   ],
   "source": [
    "df13.head()"
   ]
  },
  {
   "cell_type": "code",
   "execution_count": 110,
   "id": "04b01c82",
   "metadata": {},
   "outputs": [],
   "source": [
    "df13.to_csv('temperature/2019/2019kyoungnam.csv',sep=',')"
   ]
  },
  {
   "cell_type": "code",
   "execution_count": 112,
   "id": "a634987a",
   "metadata": {},
   "outputs": [],
   "source": [
    "# 데이터 파일 읽어오기 2019년 jeju\n",
    "df14 = pd.read_csv('temperature/2019/2019jeju.csv', encoding='euc-kr')"
   ]
  },
  {
   "cell_type": "code",
   "execution_count": 113,
   "id": "a491fa0c",
   "metadata": {},
   "outputs": [
    {
     "name": "stdout",
     "output_type": "stream",
     "text": [
      "<class 'pandas.core.frame.DataFrame'>\n",
      "RangeIndex: 365 entries, 0 to 364\n",
      "Data columns (total 5 columns):\n",
      " #   Column   Non-Null Count  Dtype  \n",
      "---  ------   --------------  -----  \n",
      " 0   날짜       365 non-null    object \n",
      " 1   지점       365 non-null    object \n",
      " 2   평균기온(℃)  365 non-null    float64\n",
      " 3   최저기온(℃)  365 non-null    float64\n",
      " 4   최고기온(℃)  365 non-null    float64\n",
      "dtypes: float64(3), object(2)\n",
      "memory usage: 14.4+ KB\n"
     ]
    }
   ],
   "source": [
    "df14.info()"
   ]
  },
  {
   "cell_type": "code",
   "execution_count": 114,
   "id": "cf01f4c9",
   "metadata": {},
   "outputs": [],
   "source": [
    "df14['날짜'] = pd.to_datetime(df14['날짜'])\n",
    "df14.drop('최저기온(℃)', axis=1, inplace=True)\n",
    "df14.drop('최고기온(℃)', axis=1, inplace=True)"
   ]
  },
  {
   "cell_type": "code",
   "execution_count": 115,
   "id": "2ec9dc53",
   "metadata": {},
   "outputs": [
    {
     "data": {
      "text/html": [
       "<div>\n",
       "<style scoped>\n",
       "    .dataframe tbody tr th:only-of-type {\n",
       "        vertical-align: middle;\n",
       "    }\n",
       "\n",
       "    .dataframe tbody tr th {\n",
       "        vertical-align: top;\n",
       "    }\n",
       "\n",
       "    .dataframe thead th {\n",
       "        text-align: right;\n",
       "    }\n",
       "</style>\n",
       "<table border=\"1\" class=\"dataframe\">\n",
       "  <thead>\n",
       "    <tr style=\"text-align: right;\">\n",
       "      <th></th>\n",
       "      <th>날짜</th>\n",
       "      <th>지점</th>\n",
       "      <th>평균기온(℃)</th>\n",
       "    </tr>\n",
       "  </thead>\n",
       "  <tbody>\n",
       "    <tr>\n",
       "      <th>0</th>\n",
       "      <td>2019-01-01</td>\n",
       "      <td>제주</td>\n",
       "      <td>5.4</td>\n",
       "    </tr>\n",
       "    <tr>\n",
       "      <th>1</th>\n",
       "      <td>2019-01-02</td>\n",
       "      <td>제주</td>\n",
       "      <td>5.2</td>\n",
       "    </tr>\n",
       "    <tr>\n",
       "      <th>2</th>\n",
       "      <td>2019-01-03</td>\n",
       "      <td>제주</td>\n",
       "      <td>6.1</td>\n",
       "    </tr>\n",
       "    <tr>\n",
       "      <th>3</th>\n",
       "      <td>2019-01-04</td>\n",
       "      <td>제주</td>\n",
       "      <td>7.6</td>\n",
       "    </tr>\n",
       "    <tr>\n",
       "      <th>4</th>\n",
       "      <td>2019-01-05</td>\n",
       "      <td>제주</td>\n",
       "      <td>8.4</td>\n",
       "    </tr>\n",
       "  </tbody>\n",
       "</table>\n",
       "</div>"
      ],
      "text/plain": [
       "          날짜  지점  평균기온(℃)\n",
       "0 2019-01-01  제주      5.4\n",
       "1 2019-01-02  제주      5.2\n",
       "2 2019-01-03  제주      6.1\n",
       "3 2019-01-04  제주      7.6\n",
       "4 2019-01-05  제주      8.4"
      ]
     },
     "execution_count": 115,
     "metadata": {},
     "output_type": "execute_result"
    }
   ],
   "source": [
    "df14.head()"
   ]
  },
  {
   "cell_type": "code",
   "execution_count": 116,
   "id": "cc0f148f",
   "metadata": {},
   "outputs": [],
   "source": [
    "df14.to_csv('temperature/2019/2019jeju.csv',sep=',')"
   ]
  },
  {
   "cell_type": "code",
   "execution_count": 117,
   "id": "b3ee3c1b",
   "metadata": {},
   "outputs": [],
   "source": [
    "result_temp = pd.concat([df,df1], ignore_index=True)"
   ]
  },
  {
   "cell_type": "code",
   "execution_count": 119,
   "id": "1a925844",
   "metadata": {},
   "outputs": [
    {
     "data": {
      "text/html": [
       "<div>\n",
       "<style scoped>\n",
       "    .dataframe tbody tr th:only-of-type {\n",
       "        vertical-align: middle;\n",
       "    }\n",
       "\n",
       "    .dataframe tbody tr th {\n",
       "        vertical-align: top;\n",
       "    }\n",
       "\n",
       "    .dataframe thead th {\n",
       "        text-align: right;\n",
       "    }\n",
       "</style>\n",
       "<table border=\"1\" class=\"dataframe\">\n",
       "  <thead>\n",
       "    <tr style=\"text-align: right;\">\n",
       "      <th></th>\n",
       "      <th>날짜</th>\n",
       "      <th>지점</th>\n",
       "      <th>평균기온(℃)</th>\n",
       "    </tr>\n",
       "  </thead>\n",
       "  <tbody>\n",
       "    <tr>\n",
       "      <th>0</th>\n",
       "      <td>2019-01-01</td>\n",
       "      <td>서울</td>\n",
       "      <td>-5.0</td>\n",
       "    </tr>\n",
       "    <tr>\n",
       "      <th>1</th>\n",
       "      <td>2019-01-02</td>\n",
       "      <td>서울</td>\n",
       "      <td>-4.9</td>\n",
       "    </tr>\n",
       "    <tr>\n",
       "      <th>2</th>\n",
       "      <td>2019-01-03</td>\n",
       "      <td>서울</td>\n",
       "      <td>-3.5</td>\n",
       "    </tr>\n",
       "    <tr>\n",
       "      <th>3</th>\n",
       "      <td>2019-01-04</td>\n",
       "      <td>서울</td>\n",
       "      <td>-1.1</td>\n",
       "    </tr>\n",
       "    <tr>\n",
       "      <th>4</th>\n",
       "      <td>2019-01-05</td>\n",
       "      <td>서울</td>\n",
       "      <td>-2.8</td>\n",
       "    </tr>\n",
       "    <tr>\n",
       "      <th>...</th>\n",
       "      <td>...</td>\n",
       "      <td>...</td>\n",
       "      <td>...</td>\n",
       "    </tr>\n",
       "    <tr>\n",
       "      <th>725</th>\n",
       "      <td>2019-12-27</td>\n",
       "      <td>부산</td>\n",
       "      <td>3.6</td>\n",
       "    </tr>\n",
       "    <tr>\n",
       "      <th>726</th>\n",
       "      <td>2019-12-28</td>\n",
       "      <td>부산</td>\n",
       "      <td>4.1</td>\n",
       "    </tr>\n",
       "    <tr>\n",
       "      <th>727</th>\n",
       "      <td>2019-12-29</td>\n",
       "      <td>부산</td>\n",
       "      <td>6.5</td>\n",
       "    </tr>\n",
       "    <tr>\n",
       "      <th>728</th>\n",
       "      <td>2019-12-30</td>\n",
       "      <td>부산</td>\n",
       "      <td>9.6</td>\n",
       "    </tr>\n",
       "    <tr>\n",
       "      <th>729</th>\n",
       "      <td>2019-12-31</td>\n",
       "      <td>부산</td>\n",
       "      <td>0.1</td>\n",
       "    </tr>\n",
       "  </tbody>\n",
       "</table>\n",
       "<p>730 rows × 3 columns</p>\n",
       "</div>"
      ],
      "text/plain": [
       "            날짜  지점  평균기온(℃)\n",
       "0   2019-01-01  서울     -5.0\n",
       "1   2019-01-02  서울     -4.9\n",
       "2   2019-01-03  서울     -3.5\n",
       "3   2019-01-04  서울     -1.1\n",
       "4   2019-01-05  서울     -2.8\n",
       "..         ...  ..      ...\n",
       "725 2019-12-27  부산      3.6\n",
       "726 2019-12-28  부산      4.1\n",
       "727 2019-12-29  부산      6.5\n",
       "728 2019-12-30  부산      9.6\n",
       "729 2019-12-31  부산      0.1\n",
       "\n",
       "[730 rows x 3 columns]"
      ]
     },
     "execution_count": 119,
     "metadata": {},
     "output_type": "execute_result"
    }
   ],
   "source": [
    "result_temp"
   ]
  },
  {
   "cell_type": "code",
   "execution_count": 120,
   "id": "7a7938c6",
   "metadata": {},
   "outputs": [
    {
     "data": {
      "text/html": [
       "<div>\n",
       "<style scoped>\n",
       "    .dataframe tbody tr th:only-of-type {\n",
       "        vertical-align: middle;\n",
       "    }\n",
       "\n",
       "    .dataframe tbody tr th {\n",
       "        vertical-align: top;\n",
       "    }\n",
       "\n",
       "    .dataframe thead th {\n",
       "        text-align: right;\n",
       "    }\n",
       "</style>\n",
       "<table border=\"1\" class=\"dataframe\">\n",
       "  <thead>\n",
       "    <tr style=\"text-align: right;\">\n",
       "      <th></th>\n",
       "      <th>날짜</th>\n",
       "      <th>지점</th>\n",
       "      <th>평균기온(℃)</th>\n",
       "    </tr>\n",
       "  </thead>\n",
       "  <tbody>\n",
       "    <tr>\n",
       "      <th>0</th>\n",
       "      <td>2019-01-01</td>\n",
       "      <td>서울</td>\n",
       "      <td>-5.0</td>\n",
       "    </tr>\n",
       "    <tr>\n",
       "      <th>1</th>\n",
       "      <td>2019-01-02</td>\n",
       "      <td>서울</td>\n",
       "      <td>-4.9</td>\n",
       "    </tr>\n",
       "    <tr>\n",
       "      <th>2</th>\n",
       "      <td>2019-01-03</td>\n",
       "      <td>서울</td>\n",
       "      <td>-3.5</td>\n",
       "    </tr>\n",
       "    <tr>\n",
       "      <th>3</th>\n",
       "      <td>2019-01-04</td>\n",
       "      <td>서울</td>\n",
       "      <td>-1.1</td>\n",
       "    </tr>\n",
       "    <tr>\n",
       "      <th>4</th>\n",
       "      <td>2019-01-05</td>\n",
       "      <td>서울</td>\n",
       "      <td>-2.8</td>\n",
       "    </tr>\n",
       "    <tr>\n",
       "      <th>...</th>\n",
       "      <td>...</td>\n",
       "      <td>...</td>\n",
       "      <td>...</td>\n",
       "    </tr>\n",
       "    <tr>\n",
       "      <th>360</th>\n",
       "      <td>2019-12-27</td>\n",
       "      <td>서울</td>\n",
       "      <td>-1.7</td>\n",
       "    </tr>\n",
       "    <tr>\n",
       "      <th>361</th>\n",
       "      <td>2019-12-28</td>\n",
       "      <td>서울</td>\n",
       "      <td>1.1</td>\n",
       "    </tr>\n",
       "    <tr>\n",
       "      <th>362</th>\n",
       "      <td>2019-12-29</td>\n",
       "      <td>서울</td>\n",
       "      <td>3.8</td>\n",
       "    </tr>\n",
       "    <tr>\n",
       "      <th>363</th>\n",
       "      <td>2019-12-30</td>\n",
       "      <td>서울</td>\n",
       "      <td>2.7</td>\n",
       "    </tr>\n",
       "    <tr>\n",
       "      <th>364</th>\n",
       "      <td>2019-12-31</td>\n",
       "      <td>서울</td>\n",
       "      <td>-7.9</td>\n",
       "    </tr>\n",
       "  </tbody>\n",
       "</table>\n",
       "<p>365 rows × 3 columns</p>\n",
       "</div>"
      ],
      "text/plain": [
       "            날짜  지점  평균기온(℃)\n",
       "0   2019-01-01  서울     -5.0\n",
       "1   2019-01-02  서울     -4.9\n",
       "2   2019-01-03  서울     -3.5\n",
       "3   2019-01-04  서울     -1.1\n",
       "4   2019-01-05  서울     -2.8\n",
       "..         ...  ..      ...\n",
       "360 2019-12-27  서울     -1.7\n",
       "361 2019-12-28  서울      1.1\n",
       "362 2019-12-29  서울      3.8\n",
       "363 2019-12-30  서울      2.7\n",
       "364 2019-12-31  서울     -7.9\n",
       "\n",
       "[365 rows x 3 columns]"
      ]
     },
     "execution_count": 120,
     "metadata": {},
     "output_type": "execute_result"
    }
   ],
   "source": [
    "df"
   ]
  },
  {
   "cell_type": "code",
   "execution_count": 121,
   "id": "c9aec481",
   "metadata": {},
   "outputs": [
    {
     "data": {
      "text/html": [
       "<div>\n",
       "<style scoped>\n",
       "    .dataframe tbody tr th:only-of-type {\n",
       "        vertical-align: middle;\n",
       "    }\n",
       "\n",
       "    .dataframe tbody tr th {\n",
       "        vertical-align: top;\n",
       "    }\n",
       "\n",
       "    .dataframe thead th {\n",
       "        text-align: right;\n",
       "    }\n",
       "</style>\n",
       "<table border=\"1\" class=\"dataframe\">\n",
       "  <thead>\n",
       "    <tr style=\"text-align: right;\">\n",
       "      <th></th>\n",
       "      <th>날짜</th>\n",
       "      <th>지점</th>\n",
       "      <th>평균기온(℃)</th>\n",
       "    </tr>\n",
       "  </thead>\n",
       "  <tbody>\n",
       "    <tr>\n",
       "      <th>0</th>\n",
       "      <td>2019-01-01</td>\n",
       "      <td>부산</td>\n",
       "      <td>1.0</td>\n",
       "    </tr>\n",
       "    <tr>\n",
       "      <th>1</th>\n",
       "      <td>2019-01-02</td>\n",
       "      <td>부산</td>\n",
       "      <td>1.2</td>\n",
       "    </tr>\n",
       "    <tr>\n",
       "      <th>2</th>\n",
       "      <td>2019-01-03</td>\n",
       "      <td>부산</td>\n",
       "      <td>3.0</td>\n",
       "    </tr>\n",
       "    <tr>\n",
       "      <th>3</th>\n",
       "      <td>2019-01-04</td>\n",
       "      <td>부산</td>\n",
       "      <td>5.0</td>\n",
       "    </tr>\n",
       "    <tr>\n",
       "      <th>4</th>\n",
       "      <td>2019-01-05</td>\n",
       "      <td>부산</td>\n",
       "      <td>5.5</td>\n",
       "    </tr>\n",
       "    <tr>\n",
       "      <th>...</th>\n",
       "      <td>...</td>\n",
       "      <td>...</td>\n",
       "      <td>...</td>\n",
       "    </tr>\n",
       "    <tr>\n",
       "      <th>360</th>\n",
       "      <td>2019-12-27</td>\n",
       "      <td>부산</td>\n",
       "      <td>3.6</td>\n",
       "    </tr>\n",
       "    <tr>\n",
       "      <th>361</th>\n",
       "      <td>2019-12-28</td>\n",
       "      <td>부산</td>\n",
       "      <td>4.1</td>\n",
       "    </tr>\n",
       "    <tr>\n",
       "      <th>362</th>\n",
       "      <td>2019-12-29</td>\n",
       "      <td>부산</td>\n",
       "      <td>6.5</td>\n",
       "    </tr>\n",
       "    <tr>\n",
       "      <th>363</th>\n",
       "      <td>2019-12-30</td>\n",
       "      <td>부산</td>\n",
       "      <td>9.6</td>\n",
       "    </tr>\n",
       "    <tr>\n",
       "      <th>364</th>\n",
       "      <td>2019-12-31</td>\n",
       "      <td>부산</td>\n",
       "      <td>0.1</td>\n",
       "    </tr>\n",
       "  </tbody>\n",
       "</table>\n",
       "<p>365 rows × 3 columns</p>\n",
       "</div>"
      ],
      "text/plain": [
       "            날짜  지점  평균기온(℃)\n",
       "0   2019-01-01  부산      1.0\n",
       "1   2019-01-02  부산      1.2\n",
       "2   2019-01-03  부산      3.0\n",
       "3   2019-01-04  부산      5.0\n",
       "4   2019-01-05  부산      5.5\n",
       "..         ...  ..      ...\n",
       "360 2019-12-27  부산      3.6\n",
       "361 2019-12-28  부산      4.1\n",
       "362 2019-12-29  부산      6.5\n",
       "363 2019-12-30  부산      9.6\n",
       "364 2019-12-31  부산      0.1\n",
       "\n",
       "[365 rows x 3 columns]"
      ]
     },
     "execution_count": 121,
     "metadata": {},
     "output_type": "execute_result"
    }
   ],
   "source": [
    "df1"
   ]
  },
  {
   "cell_type": "code",
   "execution_count": null,
   "id": "c0b71d45",
   "metadata": {},
   "outputs": [],
   "source": []
  }
 ],
 "metadata": {
  "kernelspec": {
   "display_name": "Python 3",
   "language": "python",
   "name": "python3"
  },
  "language_info": {
   "codemirror_mode": {
    "name": "ipython",
    "version": 3
   },
   "file_extension": ".py",
   "mimetype": "text/x-python",
   "name": "python",
   "nbconvert_exporter": "python",
   "pygments_lexer": "ipython3",
   "version": "3.7.10"
  }
 },
 "nbformat": 4,
 "nbformat_minor": 5
}
