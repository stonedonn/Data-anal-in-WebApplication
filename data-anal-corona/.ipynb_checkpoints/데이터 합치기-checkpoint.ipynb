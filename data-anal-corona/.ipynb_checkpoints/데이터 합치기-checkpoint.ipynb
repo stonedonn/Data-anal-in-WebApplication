{
 "cells": [
  {
   "cell_type": "code",
   "execution_count": 1,
   "id": "b0f944f7-2ecc-45ab-86dd-6007f1b87c71",
   "metadata": {},
   "outputs": [],
   "source": [
    "import pandas as pd"
   ]
  },
  {
   "cell_type": "code",
   "execution_count": 2,
   "id": "53569d5c-4e11-46ff-b5c2-b04a6deec616",
   "metadata": {},
   "outputs": [],
   "source": [
    "from glob import glob"
   ]
  },
  {
   "cell_type": "code",
   "execution_count": 3,
   "id": "89edac33-32eb-4e79-81ef-97611ce60418",
   "metadata": {},
   "outputs": [
    {
     "data": {
      "text/plain": [
       "['Data/PM25/대전\\\\202001.csv',\n",
       " 'Data/PM25/대전\\\\202002.csv',\n",
       " 'Data/PM25/대전\\\\202003.csv',\n",
       " 'Data/PM25/대전\\\\202004.csv',\n",
       " 'Data/PM25/대전\\\\202005.csv',\n",
       " 'Data/PM25/대전\\\\202006.csv',\n",
       " 'Data/PM25/대전\\\\202007.csv',\n",
       " 'Data/PM25/대전\\\\202008.csv',\n",
       " 'Data/PM25/대전\\\\202009.csv',\n",
       " 'Data/PM25/대전\\\\202010.csv',\n",
       " 'Data/PM25/대전\\\\202011.csv',\n",
       " 'Data/PM25/대전\\\\202012.csv']"
      ]
     },
     "execution_count": 3,
     "metadata": {},
     "output_type": "execute_result"
    }
   ],
   "source": [
    "glob('Data/PM25/대전/2020*.csv')"
   ]
  },
  {
   "cell_type": "code",
   "execution_count": 4,
   "id": "9af59e9f-cf97-4d69-bb2e-f5535bc01431",
   "metadata": {},
   "outputs": [],
   "source": [
    "region_list=glob('Data/PM25/대전/2020*.csv')"
   ]
  },
  {
   "cell_type": "code",
   "execution_count": 5,
   "id": "51b13acc-87ac-414a-80b8-1fb85f01cfb1",
   "metadata": {},
   "outputs": [],
   "source": [
    "tmp_list=[]\n",
    "for i in region_list:\n",
    "    tmp_list.append(pd.read_csv(i,index_col=0,parse_dates=['날짜'], dayfirst=True,infer_datetime_format=True))"
   ]
  },
  {
   "cell_type": "code",
   "execution_count": 6,
   "id": "0864edb0-b412-472a-9de7-62f290f66c12",
   "metadata": {},
   "outputs": [],
   "source": [
    "df14=pd.concat(tmp_list)"
   ]
  },
  {
   "cell_type": "code",
   "execution_count": 7,
   "id": "ee794352-0e35-43e2-b630-156b5d66c938",
   "metadata": {},
   "outputs": [
    {
     "name": "stdout",
     "output_type": "stream",
     "text": [
      "<class 'pandas.core.frame.DataFrame'>\n",
      "Int64Index: 366 entries, 0 to 30\n",
      "Data columns (total 2 columns):\n",
      " #   Column  Non-Null Count  Dtype         \n",
      "---  ------  --------------  -----         \n",
      " 0   날짜      366 non-null    datetime64[ns]\n",
      " 1   대전      366 non-null    float64       \n",
      "dtypes: datetime64[ns](1), float64(1)\n",
      "memory usage: 8.6 KB\n"
     ]
    }
   ],
   "source": [
    "df14.info()"
   ]
  },
  {
   "cell_type": "code",
   "execution_count": 8,
   "id": "ce7f3e38-9b4d-4a96-9814-337ca74f4e7c",
   "metadata": {},
   "outputs": [
    {
     "data": {
      "text/html": [
       "<div>\n",
       "<style scoped>\n",
       "    .dataframe tbody tr th:only-of-type {\n",
       "        vertical-align: middle;\n",
       "    }\n",
       "\n",
       "    .dataframe tbody tr th {\n",
       "        vertical-align: top;\n",
       "    }\n",
       "\n",
       "    .dataframe thead th {\n",
       "        text-align: right;\n",
       "    }\n",
       "</style>\n",
       "<table border=\"1\" class=\"dataframe\">\n",
       "  <thead>\n",
       "    <tr style=\"text-align: right;\">\n",
       "      <th></th>\n",
       "      <th>날짜</th>\n",
       "      <th>대전</th>\n",
       "    </tr>\n",
       "  </thead>\n",
       "  <tbody>\n",
       "    <tr>\n",
       "      <th>0</th>\n",
       "      <td>2020-01-01</td>\n",
       "      <td>14.416667</td>\n",
       "    </tr>\n",
       "    <tr>\n",
       "      <th>1</th>\n",
       "      <td>2020-01-02</td>\n",
       "      <td>38.083333</td>\n",
       "    </tr>\n",
       "    <tr>\n",
       "      <th>2</th>\n",
       "      <td>2020-01-03</td>\n",
       "      <td>46.500000</td>\n",
       "    </tr>\n",
       "    <tr>\n",
       "      <th>3</th>\n",
       "      <td>2020-01-04</td>\n",
       "      <td>39.125000</td>\n",
       "    </tr>\n",
       "    <tr>\n",
       "      <th>4</th>\n",
       "      <td>2020-01-05</td>\n",
       "      <td>29.916667</td>\n",
       "    </tr>\n",
       "    <tr>\n",
       "      <th>...</th>\n",
       "      <td>...</td>\n",
       "      <td>...</td>\n",
       "    </tr>\n",
       "    <tr>\n",
       "      <th>26</th>\n",
       "      <td>2020-12-27</td>\n",
       "      <td>28.375000</td>\n",
       "    </tr>\n",
       "    <tr>\n",
       "      <th>27</th>\n",
       "      <td>2020-12-28</td>\n",
       "      <td>31.166667</td>\n",
       "    </tr>\n",
       "    <tr>\n",
       "      <th>28</th>\n",
       "      <td>2020-12-29</td>\n",
       "      <td>37.875000</td>\n",
       "    </tr>\n",
       "    <tr>\n",
       "      <th>29</th>\n",
       "      <td>2020-12-30</td>\n",
       "      <td>7.500000</td>\n",
       "    </tr>\n",
       "    <tr>\n",
       "      <th>30</th>\n",
       "      <td>2020-12-31</td>\n",
       "      <td>10.958333</td>\n",
       "    </tr>\n",
       "  </tbody>\n",
       "</table>\n",
       "<p>366 rows × 2 columns</p>\n",
       "</div>"
      ],
      "text/plain": [
       "           날짜         대전\n",
       "0  2020-01-01  14.416667\n",
       "1  2020-01-02  38.083333\n",
       "2  2020-01-03  46.500000\n",
       "3  2020-01-04  39.125000\n",
       "4  2020-01-05  29.916667\n",
       "..        ...        ...\n",
       "26 2020-12-27  28.375000\n",
       "27 2020-12-28  31.166667\n",
       "28 2020-12-29  37.875000\n",
       "29 2020-12-30   7.500000\n",
       "30 2020-12-31  10.958333\n",
       "\n",
       "[366 rows x 2 columns]"
      ]
     },
     "execution_count": 8,
     "metadata": {},
     "output_type": "execute_result"
    }
   ],
   "source": [
    "df14"
   ]
  },
  {
   "cell_type": "code",
   "execution_count": 9,
   "id": "9bf1ad15-16b5-4fd3-84a3-797fce0b7430",
   "metadata": {},
   "outputs": [],
   "source": [
    "df14.to_csv('./Data/PM25/daejeon2020.csv', sep=',')"
   ]
  }
 ],
 "metadata": {
  "kernelspec": {
   "display_name": "Python 3",
   "language": "python",
   "name": "python3"
  },
  "language_info": {
   "codemirror_mode": {
    "name": "ipython",
    "version": 3
   },
   "file_extension": ".py",
   "mimetype": "text/x-python",
   "name": "python",
   "nbconvert_exporter": "python",
   "pygments_lexer": "ipython3",
   "version": "3.7.10"
  }
 },
 "nbformat": 4,
 "nbformat_minor": 5
}
