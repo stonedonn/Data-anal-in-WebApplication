{
 "cells": [
  {
   "cell_type": "code",
   "execution_count": 1,
   "id": "0a1901ac",
   "metadata": {},
   "outputs": [],
   "source": [
    "import pandas as pd"
   ]
  },
  {
   "cell_type": "code",
   "execution_count": 2,
   "id": "5fdd124a",
   "metadata": {},
   "outputs": [],
   "source": [
    "from glob import glob"
   ]
  },
  {
   "cell_type": "code",
   "execution_count": 3,
   "id": "ca66bd5f",
   "metadata": {},
   "outputs": [
    {
     "data": {
      "text/plain": [
       "['dust2.5\\\\Busan202101.csv',\n",
       " 'dust2.5\\\\Busan202102.csv',\n",
       " 'dust2.5\\\\Busan202103.csv',\n",
       " 'dust2.5\\\\Busan202104.csv',\n",
       " 'dust2.5\\\\Busan202105.csv',\n",
       " 'dust2.5\\\\Busan202106.csv']"
      ]
     },
     "execution_count": 3,
     "metadata": {},
     "output_type": "execute_result"
    }
   ],
   "source": [
    "glob('dust2.5/Busan*.csv')"
   ]
  },
  {
   "cell_type": "code",
   "execution_count": 4,
   "id": "f40fcd00",
   "metadata": {},
   "outputs": [],
   "source": [
    "region_list=glob('dust2.5/Busan*.csv')"
   ]
  },
  {
   "cell_type": "code",
   "execution_count": 5,
   "id": "da66c9de",
   "metadata": {},
   "outputs": [],
   "source": [
    "tmp_list=[]\n",
    "for i in region_list:\n",
    "    tmp_list.append(pd.read_csv(i,index_col=0,parse_dates=['날짜'], dayfirst=True,infer_datetime_format=True))"
   ]
  },
  {
   "cell_type": "code",
   "execution_count": 6,
   "id": "2d47cecd",
   "metadata": {},
   "outputs": [],
   "source": [
    "df=pd.concat(tmp_list)"
   ]
  },
  {
   "cell_type": "code",
   "execution_count": 10,
   "id": "9aec55f0",
   "metadata": {},
   "outputs": [],
   "source": [
    "df=df.reset_index(drop=True)"
   ]
  },
  {
   "cell_type": "code",
   "execution_count": 11,
   "id": "05bd9f36",
   "metadata": {},
   "outputs": [
    {
     "data": {
      "text/html": [
       "<div>\n",
       "<style scoped>\n",
       "    .dataframe tbody tr th:only-of-type {\n",
       "        vertical-align: middle;\n",
       "    }\n",
       "\n",
       "    .dataframe tbody tr th {\n",
       "        vertical-align: top;\n",
       "    }\n",
       "\n",
       "    .dataframe thead th {\n",
       "        text-align: right;\n",
       "    }\n",
       "</style>\n",
       "<table border=\"1\" class=\"dataframe\">\n",
       "  <thead>\n",
       "    <tr style=\"text-align: right;\">\n",
       "      <th></th>\n",
       "      <th>날짜</th>\n",
       "      <th>부산</th>\n",
       "    </tr>\n",
       "  </thead>\n",
       "  <tbody>\n",
       "    <tr>\n",
       "      <th>0</th>\n",
       "      <td>2021-01-01</td>\n",
       "      <td>14</td>\n",
       "    </tr>\n",
       "    <tr>\n",
       "      <th>1</th>\n",
       "      <td>2021-01-02</td>\n",
       "      <td>19</td>\n",
       "    </tr>\n",
       "    <tr>\n",
       "      <th>2</th>\n",
       "      <td>2021-01-03</td>\n",
       "      <td>13</td>\n",
       "    </tr>\n",
       "    <tr>\n",
       "      <th>3</th>\n",
       "      <td>2021-01-04</td>\n",
       "      <td>25</td>\n",
       "    </tr>\n",
       "    <tr>\n",
       "      <th>4</th>\n",
       "      <td>2021-01-05</td>\n",
       "      <td>28</td>\n",
       "    </tr>\n",
       "    <tr>\n",
       "      <th>...</th>\n",
       "      <td>...</td>\n",
       "      <td>...</td>\n",
       "    </tr>\n",
       "    <tr>\n",
       "      <th>176</th>\n",
       "      <td>2021-06-26</td>\n",
       "      <td>15</td>\n",
       "    </tr>\n",
       "    <tr>\n",
       "      <th>177</th>\n",
       "      <td>2021-06-27</td>\n",
       "      <td>17</td>\n",
       "    </tr>\n",
       "    <tr>\n",
       "      <th>178</th>\n",
       "      <td>2021-06-28</td>\n",
       "      <td>19</td>\n",
       "    </tr>\n",
       "    <tr>\n",
       "      <th>179</th>\n",
       "      <td>2021-06-29</td>\n",
       "      <td>14</td>\n",
       "    </tr>\n",
       "    <tr>\n",
       "      <th>180</th>\n",
       "      <td>2021-06-30</td>\n",
       "      <td>13</td>\n",
       "    </tr>\n",
       "  </tbody>\n",
       "</table>\n",
       "<p>181 rows × 2 columns</p>\n",
       "</div>"
      ],
      "text/plain": [
       "            날짜  부산\n",
       "0   2021-01-01  14\n",
       "1   2021-01-02  19\n",
       "2   2021-01-03  13\n",
       "3   2021-01-04  25\n",
       "4   2021-01-05  28\n",
       "..         ...  ..\n",
       "176 2021-06-26  15\n",
       "177 2021-06-27  17\n",
       "178 2021-06-28  19\n",
       "179 2021-06-29  14\n",
       "180 2021-06-30  13\n",
       "\n",
       "[181 rows x 2 columns]"
      ]
     },
     "execution_count": 11,
     "metadata": {},
     "output_type": "execute_result"
    }
   ],
   "source": [
    "df"
   ]
  },
  {
   "cell_type": "code",
   "execution_count": 12,
   "id": "2d072372",
   "metadata": {},
   "outputs": [],
   "source": [
    "df.to_csv('dust2.5/Busan2021.csv', sep=',')"
   ]
  },
  {
   "cell_type": "code",
   "execution_count": 13,
   "id": "82672d95",
   "metadata": {},
   "outputs": [],
   "source": [
    "glob('dust2.5/Chungbuk*.csv')\n",
    "region_list=glob('dust2.5/Chungbuk*.csv')\n",
    "tmp_list=[]\n",
    "for i in region_list:\n",
    "    tmp_list.append(pd.read_csv(i,index_col=0,parse_dates=['날짜'], dayfirst=True,infer_datetime_format=True))\n",
    "    \n",
    "df=pd.concat(tmp_list)\n",
    "df=df.reset_index(drop=True)\n",
    "df.to_csv('dust2.5/Chungbuk2021.csv', sep=',')"
   ]
  },
  {
   "cell_type": "code",
   "execution_count": 14,
   "id": "3cf033d4",
   "metadata": {},
   "outputs": [
    {
     "data": {
      "text/html": [
       "<div>\n",
       "<style scoped>\n",
       "    .dataframe tbody tr th:only-of-type {\n",
       "        vertical-align: middle;\n",
       "    }\n",
       "\n",
       "    .dataframe tbody tr th {\n",
       "        vertical-align: top;\n",
       "    }\n",
       "\n",
       "    .dataframe thead th {\n",
       "        text-align: right;\n",
       "    }\n",
       "</style>\n",
       "<table border=\"1\" class=\"dataframe\">\n",
       "  <thead>\n",
       "    <tr style=\"text-align: right;\">\n",
       "      <th></th>\n",
       "      <th>날짜</th>\n",
       "      <th>충북</th>\n",
       "    </tr>\n",
       "  </thead>\n",
       "  <tbody>\n",
       "    <tr>\n",
       "      <th>0</th>\n",
       "      <td>2021-01-01</td>\n",
       "      <td>24</td>\n",
       "    </tr>\n",
       "    <tr>\n",
       "      <th>1</th>\n",
       "      <td>2021-01-02</td>\n",
       "      <td>23</td>\n",
       "    </tr>\n",
       "    <tr>\n",
       "      <th>2</th>\n",
       "      <td>2021-01-03</td>\n",
       "      <td>21</td>\n",
       "    </tr>\n",
       "    <tr>\n",
       "      <th>3</th>\n",
       "      <td>2021-01-04</td>\n",
       "      <td>28</td>\n",
       "    </tr>\n",
       "    <tr>\n",
       "      <th>4</th>\n",
       "      <td>2021-01-05</td>\n",
       "      <td>23</td>\n",
       "    </tr>\n",
       "    <tr>\n",
       "      <th>...</th>\n",
       "      <td>...</td>\n",
       "      <td>...</td>\n",
       "    </tr>\n",
       "    <tr>\n",
       "      <th>176</th>\n",
       "      <td>2021-06-26</td>\n",
       "      <td>11</td>\n",
       "    </tr>\n",
       "    <tr>\n",
       "      <th>177</th>\n",
       "      <td>2021-06-27</td>\n",
       "      <td>14</td>\n",
       "    </tr>\n",
       "    <tr>\n",
       "      <th>178</th>\n",
       "      <td>2021-06-28</td>\n",
       "      <td>14</td>\n",
       "    </tr>\n",
       "    <tr>\n",
       "      <th>179</th>\n",
       "      <td>2021-06-29</td>\n",
       "      <td>15</td>\n",
       "    </tr>\n",
       "    <tr>\n",
       "      <th>180</th>\n",
       "      <td>2021-06-30</td>\n",
       "      <td>20</td>\n",
       "    </tr>\n",
       "  </tbody>\n",
       "</table>\n",
       "<p>181 rows × 2 columns</p>\n",
       "</div>"
      ],
      "text/plain": [
       "            날짜  충북\n",
       "0   2021-01-01  24\n",
       "1   2021-01-02  23\n",
       "2   2021-01-03  21\n",
       "3   2021-01-04  28\n",
       "4   2021-01-05  23\n",
       "..         ...  ..\n",
       "176 2021-06-26  11\n",
       "177 2021-06-27  14\n",
       "178 2021-06-28  14\n",
       "179 2021-06-29  15\n",
       "180 2021-06-30  20\n",
       "\n",
       "[181 rows x 2 columns]"
      ]
     },
     "execution_count": 14,
     "metadata": {},
     "output_type": "execute_result"
    }
   ],
   "source": [
    "df"
   ]
  },
  {
   "cell_type": "code",
   "execution_count": 15,
   "id": "c06c9ee5",
   "metadata": {},
   "outputs": [],
   "source": [
    "glob('dust2.5/Chungnam*.csv')\n",
    "region_list=glob('dust2.5/Chungnam*.csv')\n",
    "tmp_list=[]\n",
    "for i in region_list:\n",
    "    tmp_list.append(pd.read_csv(i,index_col=0,parse_dates=['날짜'], dayfirst=True,infer_datetime_format=True))\n",
    "    \n",
    "df=pd.concat(tmp_list)\n",
    "df=df.reset_index(drop=True)\n",
    "df.to_csv('dust2.5/Chungnam2021.csv', sep=',')"
   ]
  },
  {
   "cell_type": "code",
   "execution_count": 16,
   "id": "d843b352",
   "metadata": {},
   "outputs": [],
   "source": [
    "glob('dust2.5/Daegu*.csv')\n",
    "region_list=glob('dust2.5/Daegu*.csv')\n",
    "tmp_list=[]\n",
    "for i in region_list:\n",
    "    tmp_list.append(pd.read_csv(i,index_col=0,parse_dates=['날짜'], dayfirst=True,infer_datetime_format=True))\n",
    "    \n",
    "df=pd.concat(tmp_list)\n",
    "df=df.reset_index(drop=True)\n",
    "df.to_csv('dust2.5/Daegu2021.csv', sep=',')"
   ]
  },
  {
   "cell_type": "code",
   "execution_count": 17,
   "id": "cc2f2164",
   "metadata": {},
   "outputs": [],
   "source": [
    "glob('dust2.5/Daejeon*.csv')\n",
    "region_list=glob('dust2.5/Daejeon*.csv')\n",
    "tmp_list=[]\n",
    "for i in region_list:\n",
    "    tmp_list.append(pd.read_csv(i,index_col=0,parse_dates=['날짜'], dayfirst=True,infer_datetime_format=True))\n",
    "    \n",
    "df=pd.concat(tmp_list)\n",
    "df=df.reset_index(drop=True)\n",
    "df.to_csv('dust2.5/Daejeon2021.csv', sep=',')"
   ]
  },
  {
   "cell_type": "code",
   "execution_count": 19,
   "id": "30858648",
   "metadata": {},
   "outputs": [],
   "source": [
    "glob('dust2.5/Incheon*.csv')\n",
    "region_list=glob('dust2.5/Incheon*.csv')\n",
    "tmp_list=[]\n",
    "for i in region_list:\n",
    "    tmp_list.append(pd.read_csv(i,index_col=0,parse_dates=['날짜'], dayfirst=True,infer_datetime_format=True))\n",
    "    \n",
    "df=pd.concat(tmp_list)\n",
    "df=df.reset_index(drop=True)\n",
    "df.to_csv('dust2.5/Incheon2021.csv', sep=',')"
   ]
  },
  {
   "cell_type": "code",
   "execution_count": 20,
   "id": "3ad0dd5a",
   "metadata": {},
   "outputs": [],
   "source": [
    "glob('dust2.5/Jeju*.csv')\n",
    "region_list=glob('dust2.5/Jeju*.csv')\n",
    "tmp_list=[]\n",
    "for i in region_list:\n",
    "    tmp_list.append(pd.read_csv(i,index_col=0,parse_dates=['날짜'], dayfirst=True,infer_datetime_format=True))\n",
    "    \n",
    "df=pd.concat(tmp_list)\n",
    "df=df.reset_index(drop=True)\n",
    "df.to_csv('dust2.5/Jeju2021.csv', sep=',')"
   ]
  },
  {
   "cell_type": "code",
   "execution_count": 21,
   "id": "56da63be",
   "metadata": {},
   "outputs": [],
   "source": [
    "glob('dust2.5/Jeonbuk*.csv')\n",
    "region_list=glob('dust2.5/Jeonbuk*.csv')\n",
    "tmp_list=[]\n",
    "for i in region_list:\n",
    "    tmp_list.append(pd.read_csv(i,index_col=0,parse_dates=['날짜'], dayfirst=True,infer_datetime_format=True))\n",
    "    \n",
    "df=pd.concat(tmp_list)\n",
    "df=df.reset_index(drop=True)\n",
    "df.to_csv('dust2.5/Jeonbuk2021.csv', sep=',')"
   ]
  },
  {
   "cell_type": "code",
   "execution_count": 22,
   "id": "37e2dc18",
   "metadata": {},
   "outputs": [],
   "source": [
    "glob('dust2.5/Jeonnam*.csv')\n",
    "region_list=glob('dust2.5/Jeonnam*.csv')\n",
    "tmp_list=[]\n",
    "for i in region_list:\n",
    "    tmp_list.append(pd.read_csv(i,index_col=0,parse_dates=['날짜'], dayfirst=True,infer_datetime_format=True))\n",
    "    \n",
    "df=pd.concat(tmp_list)\n",
    "df=df.reset_index(drop=True)\n",
    "df.to_csv('dust2.5/Jeonnam2021.csv', sep=',')"
   ]
  },
  {
   "cell_type": "code",
   "execution_count": 23,
   "id": "5c4a27dd",
   "metadata": {},
   "outputs": [],
   "source": [
    "glob('dust2.5/Kangwon*.csv')\n",
    "region_list=glob('dust2.5/Kangwon*.csv')\n",
    "tmp_list=[]\n",
    "for i in region_list:\n",
    "    tmp_list.append(pd.read_csv(i,index_col=0,parse_dates=['날짜'], dayfirst=True,infer_datetime_format=True))\n",
    "    \n",
    "df=pd.concat(tmp_list)\n",
    "df=df.reset_index(drop=True)\n",
    "df.to_csv('dust2.5/Kangwon2021.csv', sep=',')"
   ]
  },
  {
   "cell_type": "code",
   "execution_count": 24,
   "id": "a9781f94",
   "metadata": {},
   "outputs": [],
   "source": [
    "glob('dust2.5/Kyoungki*.csv')\n",
    "region_list=glob('dust2.5/Kyoungki*.csv')\n",
    "tmp_list=[]\n",
    "for i in region_list:\n",
    "    tmp_list.append(pd.read_csv(i,index_col=0,parse_dates=['날짜'], dayfirst=True,infer_datetime_format=True))\n",
    "    \n",
    "df=pd.concat(tmp_list)\n",
    "df=df.reset_index(drop=True)\n",
    "df.to_csv('dust2.5/Kyoungki2021.csv', sep=',')"
   ]
  },
  {
   "cell_type": "code",
   "execution_count": 25,
   "id": "2fe07e99",
   "metadata": {},
   "outputs": [],
   "source": [
    "glob('dust2.5/Kwangju*.csv')\n",
    "region_list=glob('dust2.5/Kwangju*.csv')\n",
    "tmp_list=[]\n",
    "for i in region_list:\n",
    "    tmp_list.append(pd.read_csv(i,index_col=0,parse_dates=['날짜'], dayfirst=True,infer_datetime_format=True))\n",
    "    \n",
    "df=pd.concat(tmp_list)\n",
    "df=df.reset_index(drop=True)\n",
    "df.to_csv('dust2.5/Kwangju2021.csv', sep=',')"
   ]
  },
  {
   "cell_type": "code",
   "execution_count": 26,
   "id": "5b1b8472",
   "metadata": {},
   "outputs": [],
   "source": [
    "glob('dust2.5/Kyoungbuk*.csv')\n",
    "region_list=glob('dust2.5/Kyoungbuk*.csv')\n",
    "tmp_list=[]\n",
    "for i in region_list:\n",
    "    tmp_list.append(pd.read_csv(i,index_col=0,parse_dates=['날짜'], dayfirst=True,infer_datetime_format=True))\n",
    "    \n",
    "df=pd.concat(tmp_list)\n",
    "df=df.reset_index(drop=True)\n",
    "df.to_csv('dust2.5/Kyoungbuk2021.csv', sep=',')"
   ]
  },
  {
   "cell_type": "code",
   "execution_count": 27,
   "id": "0ab160ca",
   "metadata": {},
   "outputs": [],
   "source": [
    "glob('dust2.5/Kyoungnam*.csv')\n",
    "region_list=glob('dust2.5/Kyoungnam*.csv')\n",
    "tmp_list=[]\n",
    "for i in region_list:\n",
    "    tmp_list.append(pd.read_csv(i,index_col=0,parse_dates=['날짜'], dayfirst=True,infer_datetime_format=True))\n",
    "    \n",
    "df=pd.concat(tmp_list)\n",
    "df=df.reset_index(drop=True)\n",
    "df.to_csv('dust2.5/Kyoungnam2021.csv', sep=',')"
   ]
  },
  {
   "cell_type": "code",
   "execution_count": 28,
   "id": "3c7489b0",
   "metadata": {},
   "outputs": [],
   "source": [
    "glob('dust2.5/Sejong*.csv')\n",
    "region_list=glob('dust2.5/Sejong*.csv')\n",
    "tmp_list=[]\n",
    "for i in region_list:\n",
    "    tmp_list.append(pd.read_csv(i,index_col=0,parse_dates=['날짜'], dayfirst=True,infer_datetime_format=True))\n",
    "    \n",
    "df=pd.concat(tmp_list)\n",
    "df=df.reset_index(drop=True)\n",
    "df.to_csv('dust2.5/Sejong2021.csv', sep=',')"
   ]
  },
  {
   "cell_type": "code",
   "execution_count": 29,
   "id": "78e4fc8b",
   "metadata": {},
   "outputs": [],
   "source": [
    "glob('dust2.5/Seoul*.csv')\n",
    "region_list=glob('dust2.5/Seoul*.csv')\n",
    "tmp_list=[]\n",
    "for i in region_list:\n",
    "    tmp_list.append(pd.read_csv(i,index_col=0,parse_dates=['날짜'], dayfirst=True,infer_datetime_format=True))\n",
    "    \n",
    "df=pd.concat(tmp_list)\n",
    "df=df.reset_index(drop=True)\n",
    "df.to_csv('dust2.5/Seoul2021.csv', sep=',')"
   ]
  },
  {
   "cell_type": "code",
   "execution_count": 30,
   "id": "2fc854f2",
   "metadata": {},
   "outputs": [],
   "source": [
    "glob('dust2.5/Ulsan*.csv')\n",
    "region_list=glob('dust2.5/Ulsan*.csv')\n",
    "tmp_list=[]\n",
    "for i in region_list:\n",
    "    tmp_list.append(pd.read_csv(i,index_col=0,parse_dates=['날짜'], dayfirst=True,infer_datetime_format=True))\n",
    "    \n",
    "df=pd.concat(tmp_list)\n",
    "df=df.reset_index(drop=True)\n",
    "df.to_csv('dust2.5/Ulsan2021.csv', sep=',')"
   ]
  },
  {
   "cell_type": "code",
   "execution_count": 31,
   "id": "14c7c53f",
   "metadata": {},
   "outputs": [],
   "source": [
    "glob('dust10/Busan*.csv')\n",
    "region_list=glob('dust10/Busan*.csv')\n",
    "tmp_list=[]\n",
    "for i in region_list:\n",
    "    tmp_list.append(pd.read_csv(i,index_col=0,parse_dates=['날짜'], dayfirst=True,infer_datetime_format=True))\n",
    "    \n",
    "df=pd.concat(tmp_list)\n",
    "df=df.reset_index(drop=True)\n",
    "df.to_csv('dust10/Busan2021.csv', sep=',')"
   ]
  },
  {
   "cell_type": "code",
   "execution_count": 32,
   "id": "165cc12b",
   "metadata": {},
   "outputs": [],
   "source": [
    "glob('dust10/Chungbuk*.csv')\n",
    "region_list=glob('dust10/Chungbuk*.csv')\n",
    "tmp_list=[]\n",
    "for i in region_list:\n",
    "    tmp_list.append(pd.read_csv(i,index_col=0,parse_dates=['날짜'], dayfirst=True,infer_datetime_format=True))\n",
    "    \n",
    "df=pd.concat(tmp_list)\n",
    "df=df.reset_index(drop=True)\n",
    "df.to_csv('dust10/Chungbuk2021.csv', sep=',')"
   ]
  },
  {
   "cell_type": "code",
   "execution_count": 33,
   "id": "f038bb83",
   "metadata": {},
   "outputs": [],
   "source": [
    "glob('dust10/Chungnam*.csv')\n",
    "region_list=glob('dust10/Chungnam*.csv')\n",
    "tmp_list=[]\n",
    "for i in region_list:\n",
    "    tmp_list.append(pd.read_csv(i,index_col=0,parse_dates=['날짜'], dayfirst=True,infer_datetime_format=True))\n",
    "    \n",
    "df=pd.concat(tmp_list)\n",
    "df=df.reset_index(drop=True)\n",
    "df.to_csv('dust10/Chungnam2021.csv', sep=',')"
   ]
  },
  {
   "cell_type": "code",
   "execution_count": 34,
   "id": "3d363de5",
   "metadata": {},
   "outputs": [],
   "source": [
    "glob('dust10/Daegu*.csv')\n",
    "region_list=glob('dust10/Daegu*.csv')\n",
    "tmp_list=[]\n",
    "for i in region_list:\n",
    "    tmp_list.append(pd.read_csv(i,index_col=0,parse_dates=['날짜'], dayfirst=True,infer_datetime_format=True))\n",
    "    \n",
    "df=pd.concat(tmp_list)\n",
    "df=df.reset_index(drop=True)\n",
    "df.to_csv('dust10/Daegu2021.csv', sep=',')"
   ]
  },
  {
   "cell_type": "code",
   "execution_count": 35,
   "id": "da26ae41",
   "metadata": {},
   "outputs": [],
   "source": [
    "glob('dust10/Daejeon*.csv')\n",
    "region_list=glob('dust10/Daejeon*.csv')\n",
    "tmp_list=[]\n",
    "for i in region_list:\n",
    "    tmp_list.append(pd.read_csv(i,index_col=0,parse_dates=['날짜'], dayfirst=True,infer_datetime_format=True))\n",
    "    \n",
    "df=pd.concat(tmp_list)\n",
    "df=df.reset_index(drop=True)\n",
    "df.to_csv('dust10/Daejeon2021.csv', sep=',')"
   ]
  },
  {
   "cell_type": "code",
   "execution_count": 36,
   "id": "69484622",
   "metadata": {},
   "outputs": [],
   "source": [
    "glob('dust10/Incheon*.csv')\n",
    "region_list=glob('dust10/Incheon*.csv')\n",
    "tmp_list=[]\n",
    "for i in region_list:\n",
    "    tmp_list.append(pd.read_csv(i,index_col=0,parse_dates=['날짜'], dayfirst=True,infer_datetime_format=True))\n",
    "    \n",
    "df=pd.concat(tmp_list)\n",
    "df=df.reset_index(drop=True)\n",
    "df.to_csv('dust10/Incheon2021.csv', sep=',')"
   ]
  },
  {
   "cell_type": "code",
   "execution_count": 37,
   "id": "fd44539b",
   "metadata": {},
   "outputs": [],
   "source": [
    "glob('dust10/Jeju*.csv')\n",
    "region_list=glob('dust10/Jeju*.csv')\n",
    "tmp_list=[]\n",
    "for i in region_list:\n",
    "    tmp_list.append(pd.read_csv(i,index_col=0,parse_dates=['날짜'], dayfirst=True,infer_datetime_format=True))\n",
    "    \n",
    "df=pd.concat(tmp_list)\n",
    "df=df.reset_index(drop=True)\n",
    "df.to_csv('dust10/Jeju2021.csv', sep=',')"
   ]
  },
  {
   "cell_type": "code",
   "execution_count": 38,
   "id": "ac978978",
   "metadata": {},
   "outputs": [],
   "source": [
    "glob('dust10/Jeonbuk*.csv')\n",
    "region_list=glob('dust10/Jeonbuk*.csv')\n",
    "tmp_list=[]\n",
    "for i in region_list:\n",
    "    tmp_list.append(pd.read_csv(i,index_col=0,parse_dates=['날짜'], dayfirst=True,infer_datetime_format=True))\n",
    "    \n",
    "df=pd.concat(tmp_list)\n",
    "df=df.reset_index(drop=True)\n",
    "df.to_csv('dust10/Jeonbuk2021.csv', sep=',')"
   ]
  },
  {
   "cell_type": "code",
   "execution_count": 39,
   "id": "de0e4ad2",
   "metadata": {},
   "outputs": [],
   "source": [
    "glob('dust10/Jeonnam*.csv')\n",
    "region_list=glob('dust10/Jeonnam*.csv')\n",
    "tmp_list=[]\n",
    "for i in region_list:\n",
    "    tmp_list.append(pd.read_csv(i,index_col=0,parse_dates=['날짜'], dayfirst=True,infer_datetime_format=True))\n",
    "    \n",
    "df=pd.concat(tmp_list)\n",
    "df=df.reset_index(drop=True)\n",
    "df.to_csv('dust10/Jeonnam2021.csv', sep=',')"
   ]
  },
  {
   "cell_type": "code",
   "execution_count": 40,
   "id": "28be76bc",
   "metadata": {},
   "outputs": [],
   "source": [
    "glob('dust10/Kangwon*.csv')\n",
    "region_list=glob('dust10/Kangwon*.csv')\n",
    "tmp_list=[]\n",
    "for i in region_list:\n",
    "    tmp_list.append(pd.read_csv(i,index_col=0,parse_dates=['날짜'], dayfirst=True,infer_datetime_format=True))\n",
    "    \n",
    "df=pd.concat(tmp_list)\n",
    "df=df.reset_index(drop=True)\n",
    "df.to_csv('dust10/Kangwon2021.csv', sep=',')"
   ]
  },
  {
   "cell_type": "code",
   "execution_count": 41,
   "id": "59ca4b76",
   "metadata": {},
   "outputs": [],
   "source": [
    "glob('dust10/Kwangju*.csv')\n",
    "region_list=glob('dust10/Kwangju*.csv')\n",
    "tmp_list=[]\n",
    "for i in region_list:\n",
    "    tmp_list.append(pd.read_csv(i,index_col=0,parse_dates=['날짜'], dayfirst=True,infer_datetime_format=True))\n",
    "    \n",
    "df=pd.concat(tmp_list)\n",
    "df=df.reset_index(drop=True)\n",
    "df.to_csv('dust10/Kwangju2021.csv', sep=',')"
   ]
  },
  {
   "cell_type": "code",
   "execution_count": 42,
   "id": "c99d3fe4",
   "metadata": {},
   "outputs": [],
   "source": [
    "glob('dust10/Kyoungbuk*.csv')\n",
    "region_list=glob('dust10/Kyoungbuk*.csv')\n",
    "tmp_list=[]\n",
    "for i in region_list:\n",
    "    tmp_list.append(pd.read_csv(i,index_col=0,parse_dates=['날짜'], dayfirst=True,infer_datetime_format=True))\n",
    "    \n",
    "df=pd.concat(tmp_list)\n",
    "df=df.reset_index(drop=True)\n",
    "df.to_csv('dust10/Kyoungbuk2021.csv', sep=',')"
   ]
  },
  {
   "cell_type": "code",
   "execution_count": 43,
   "id": "1429f9b8",
   "metadata": {},
   "outputs": [],
   "source": [
    "glob('dust10/Kyoungnam*.csv')\n",
    "region_list=glob('dust10/Kyoungnam*.csv')\n",
    "tmp_list=[]\n",
    "for i in region_list:\n",
    "    tmp_list.append(pd.read_csv(i,index_col=0,parse_dates=['날짜'], dayfirst=True,infer_datetime_format=True))\n",
    "    \n",
    "df=pd.concat(tmp_list)\n",
    "df=df.reset_index(drop=True)\n",
    "df.to_csv('dust10/Kyoungnam2021.csv', sep=',')"
   ]
  },
  {
   "cell_type": "code",
   "execution_count": 44,
   "id": "7a620728",
   "metadata": {},
   "outputs": [],
   "source": [
    "glob('dust10/Kyoungki*.csv')\n",
    "region_list=glob('dust10/Kyoungki*.csv')\n",
    "tmp_list=[]\n",
    "for i in region_list:\n",
    "    tmp_list.append(pd.read_csv(i,index_col=0,parse_dates=['날짜'], dayfirst=True,infer_datetime_format=True))\n",
    "    \n",
    "df=pd.concat(tmp_list)\n",
    "df=df.reset_index(drop=True)\n",
    "df.to_csv('dust10/Kyoungki2021.csv', sep=',')"
   ]
  },
  {
   "cell_type": "code",
   "execution_count": 45,
   "id": "0ee44719",
   "metadata": {},
   "outputs": [],
   "source": [
    "glob('dust10/Sejong*.csv')\n",
    "region_list=glob('dust10/Sejong*.csv')\n",
    "tmp_list=[]\n",
    "for i in region_list:\n",
    "    tmp_list.append(pd.read_csv(i,index_col=0,parse_dates=['날짜'], dayfirst=True,infer_datetime_format=True))\n",
    "    \n",
    "df=pd.concat(tmp_list)\n",
    "df=df.reset_index(drop=True)\n",
    "df.to_csv('dust10/Sejong2021.csv', sep=',')"
   ]
  },
  {
   "cell_type": "code",
   "execution_count": 46,
   "id": "649f62dd",
   "metadata": {},
   "outputs": [],
   "source": [
    "glob('dust10/Seoul*.csv')\n",
    "region_list=glob('dust10/Seoul*.csv')\n",
    "tmp_list=[]\n",
    "for i in region_list:\n",
    "    tmp_list.append(pd.read_csv(i,index_col=0,parse_dates=['날짜'], dayfirst=True,infer_datetime_format=True))\n",
    "    \n",
    "df=pd.concat(tmp_list)\n",
    "df=df.reset_index(drop=True)\n",
    "df.to_csv('dust10/Seoul2021.csv', sep=',')"
   ]
  },
  {
   "cell_type": "code",
   "execution_count": 47,
   "id": "2e395ca3",
   "metadata": {},
   "outputs": [],
   "source": [
    "glob('dust10/Ulsan*.csv')\n",
    "region_list=glob('dust10/Ulsan*.csv')\n",
    "tmp_list=[]\n",
    "for i in region_list:\n",
    "    tmp_list.append(pd.read_csv(i,index_col=0,parse_dates=['날짜'], dayfirst=True,infer_datetime_format=True))\n",
    "    \n",
    "df=pd.concat(tmp_list)\n",
    "df=df.reset_index(drop=True)\n",
    "df.to_csv('dust10/Ulsan2021.csv', sep=',')"
   ]
  },
  {
   "cell_type": "code",
   "execution_count": null,
   "id": "8332d054",
   "metadata": {},
   "outputs": [],
   "source": []
  }
 ],
 "metadata": {
  "kernelspec": {
   "display_name": "Python 3",
   "language": "python",
   "name": "python3"
  },
  "language_info": {
   "codemirror_mode": {
    "name": "ipython",
    "version": 3
   },
   "file_extension": ".py",
   "mimetype": "text/x-python",
   "name": "python",
   "nbconvert_exporter": "python",
   "pygments_lexer": "ipython3",
   "version": "3.7.10"
  }
 },
 "nbformat": 4,
 "nbformat_minor": 5
}
